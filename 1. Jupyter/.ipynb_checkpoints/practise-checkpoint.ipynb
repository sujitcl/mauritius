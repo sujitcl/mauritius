{
 "cells": [
  {
   "cell_type": "code",
   "execution_count": null,
   "metadata": {},
   "outputs": [],
   "source": [
    "# 1. type in a few instructions as below. \n",
    "#    If there is a '#' character at the beggining of the line, it is a comment and it will do nothing.\n",
    "#    So for the instruction to be executed, do not type the '#' character.\n",
    "# x = 10\n",
    "# y = 5\n",
    "# z = x + y\n",
    "# print (z)\n",
    "\n",
    "# 2. Click on the \"Run\" button in the tool bar above."
   ]
  },
  {
   "cell_type": "code",
   "execution_count": null,
   "metadata": {},
   "outputs": [],
   "source": [
    "# 1. Copy code from the above cell into this cell, below this line.\n",
    "#    To copy the code, highlight the code and then hit CTRL+C.\n",
    "#    To paste, do CTRL+V.\n",
    "\n",
    "# 2. Now press the SHIFT and ENTER key simultaneously."
   ]
  },
  {
   "cell_type": "code",
   "execution_count": null,
   "metadata": {},
   "outputs": [],
   "source": [
    "# 1. Click your cursor inside this cell so that the cell outline changes from blue to green. This is the edit mode.\n",
    "\n",
    "# 2. Hit the \"Esc\" key. The cell outline will turn blue. This is the command mode.\n",
    "\n",
    "# 3. In the command mode, use the Pgup arrow repeatedly to go to the first cell of the notebook.\n",
    "#    Use the PgDn key repeatedly to come back to this cell.\n",
    "\n",
    "# 4. Check that the cell boundary is blue. If not, hit the \"Esc\" key so that it becomes blue.\n",
    "\n",
    "# 5. Hit the 'B' key. It should create an empty cell below and.\n"
   ]
  },
  {
   "cell_type": "code",
   "execution_count": null,
   "metadata": {},
   "outputs": [],
   "source": [
    "# 1. Check that this cell is selected and you are in edit mode.\n",
    "\n",
    "# 2. Hit the 'A' key. It should create an empty cell above this cell."
   ]
  },
  {
   "cell_type": "code",
   "execution_count": null,
   "metadata": {},
   "outputs": [],
   "source": [
    "# 1. To delete one of the cells created, go to the above cell using the PgUp key.\n",
    "\n",
    "# 2. Use the scissor button to delete the cell."
   ]
  },
  {
   "cell_type": "code",
   "execution_count": 4,
   "metadata": {},
   "outputs": [],
   "source": [
    "# 1. Go to any of the cells above which have code.\n",
    "# 2. Click your cursor in the cell so that the outline changes to green.\n",
    "# 3. Change x = 10 to x = 20. \n",
    "# 4. Run the code in the cell."
   ]
  },
  {
   "cell_type": "code",
   "execution_count": null,
   "metadata": {},
   "outputs": [],
   "source": []
  }
 ],
 "metadata": {
  "kernelspec": {
   "display_name": "Python 3",
   "language": "python",
   "name": "python3"
  },
  "language_info": {
   "codemirror_mode": {
    "name": "ipython",
    "version": 3
   },
   "file_extension": ".py",
   "mimetype": "text/x-python",
   "name": "python",
   "nbconvert_exporter": "python",
   "pygments_lexer": "ipython3",
   "version": "3.7.3"
  }
 },
 "nbformat": 4,
 "nbformat_minor": 2
}
