{
 "cells": [
  {
   "cell_type": "markdown",
   "metadata": {},
   "source": [
    "#  Unsupervised - Clustering Algorithms"
   ]
  },
  {
   "cell_type": "code",
   "execution_count": null,
   "metadata": {},
   "outputs": [],
   "source": [
    "# Read the CAT 2018 file useravg2018.csv  : Hint - use index_col = 0 argument \n",
    "# Examine the head of the data"
   ]
  },
  {
   "cell_type": "code",
   "execution_count": null,
   "metadata": {},
   "outputs": [],
   "source": [
    "# Importing the libraries\n",
    "import numpy as np\n",
    "import matplotlib.pyplot as plt\n",
    "import pandas as pd\n",
    "import seaborn as sns\n",
    "\n",
    "dataset = pd.read_csv('/Data/useravg2018.csv', index_col=0)"
   ]
  },
  {
   "cell_type": "code",
   "execution_count": null,
   "metadata": {},
   "outputs": [],
   "source": [
    "dataset.head()"
   ]
  },
  {
   "cell_type": "code",
   "execution_count": null,
   "metadata": {},
   "outputs": [],
   "source": [
    "dataset.shape[0]"
   ]
  },
  {
   "cell_type": "code",
   "execution_count": null,
   "metadata": {},
   "outputs": [],
   "source": [
    "dataset.describe()"
   ]
  },
  {
   "cell_type": "code",
   "execution_count": null,
   "metadata": {},
   "outputs": [],
   "source": [
    "##### Load the X variable  with columns TOP3_AVG and NMOCKS\n",
    "X=dataset[['ACC', 'AVG_ATT']].values\n",
    "\n",
    "\n",
    "#HINT  To Load the X variable  with columns NMOCKS,ATT,OK, ACC, AVG_ATT, use the code below\n",
    "#X=useravg.iloc[:,[4,5,6,7,8]].values"
   ]
  },
  {
   "cell_type": "code",
   "execution_count": null,
   "metadata": {},
   "outputs": [],
   "source": [
    "#Scale the data\n",
    "from sklearn.preprocessing import StandardScaler\n",
    "scaler = StandardScaler()\n",
    "X_scaled = scaler.fit_transform(X)"
   ]
  },
  {
   "cell_type": "code",
   "execution_count": null,
   "metadata": {},
   "outputs": [],
   "source": [
    "X[:5,:]"
   ]
  },
  {
   "cell_type": "code",
   "execution_count": null,
   "metadata": {},
   "outputs": [],
   "source": [
    "X_scaled[:5,:]"
   ]
  },
  {
   "cell_type": "code",
   "execution_count": null,
   "metadata": {},
   "outputs": [],
   "source": [
    "# from sklearn.cluster import KMeans\n",
    "# %matplotlib inline"
   ]
  },
  {
   "cell_type": "markdown",
   "metadata": {},
   "source": [
    "## Calculate Entropy - wcss "
   ]
  },
  {
   "cell_type": "code",
   "execution_count": null,
   "metadata": {},
   "outputs": [],
   "source": [
    "#Calculate WCSS"
   ]
  },
  {
   "cell_type": "code",
   "execution_count": null,
   "metadata": {},
   "outputs": [],
   "source": [
    "\n",
    "from sklearn.cluster import KMeans\n",
    "inertia = []\n",
    "cl=[]\n",
    "for i in range(1, 11):\n",
    "    kmeans = KMeans(n_clusters = i, init = 'k-means++', random_state = 42)\n",
    "    kmeans.fit(X_scaled)\n",
    "    inertia.append(kmeans.inertia_)\n",
    "    cl.append(i)"
   ]
  },
  {
   "cell_type": "markdown",
   "metadata": {},
   "source": [
    "## Plot the Elbow Curve"
   ]
  },
  {
   "cell_type": "code",
   "execution_count": null,
   "metadata": {},
   "outputs": [],
   "source": [
    "#Display the Elbow Graph"
   ]
  },
  {
   "cell_type": "code",
   "execution_count": null,
   "metadata": {},
   "outputs": [],
   "source": [
    "sns.pointplot(x=cl, y=inertia)\n",
    "plt.title('The Elbow Method')\n",
    "plt.xlabel('NUmber of Clusters')\n",
    "plt.ylabel('Inertia')\n",
    "plt.show()"
   ]
  },
  {
   "cell_type": "markdown",
   "metadata": {},
   "source": [
    "## Fit the K means to the by choosing the right number of clusters"
   ]
  },
  {
   "cell_type": "code",
   "execution_count": null,
   "metadata": {},
   "outputs": [],
   "source": [
    "#Choose the Cluster Size\n",
    "\n",
    "# It seems 5 to 6 clusters is ideal\n",
    "# Fitting K-Means to the dataset"
   ]
  },
  {
   "cell_type": "code",
   "execution_count": null,
   "metadata": {},
   "outputs": [],
   "source": [
    "# Fit the Algorithm and Predict\n",
    "kmeans = KMeans(n_clusters = 5, init = 'k-means++', random_state = 42)\n",
    "y_kmeans = kmeans.fit_predict(X_scaled)"
   ]
  },
  {
   "cell_type": "code",
   "execution_count": null,
   "metadata": {},
   "outputs": [],
   "source": [
    "#check some of the results\n",
    "y_kmeans[:10]"
   ]
  },
  {
   "cell_type": "code",
   "execution_count": null,
   "metadata": {},
   "outputs": [],
   "source": [
    "dataset['cluster']= y_kmeans\n",
    "dataset.head()"
   ]
  },
  {
   "cell_type": "markdown",
   "metadata": {},
   "source": [
    "## Visualize the Clusters\n",
    "\n"
   ]
  },
  {
   "cell_type": "code",
   "execution_count": null,
   "metadata": {},
   "outputs": [],
   "source": [
    "#Visualize the Clusters"
   ]
  },
  {
   "cell_type": "code",
   "execution_count": null,
   "metadata": {},
   "outputs": [],
   "source": [
    "#get the Centroids back unscaled\n",
    "kmc = scaler.inverse_transform(kmeans.cluster_centers_)"
   ]
  },
  {
   "cell_type": "code",
   "execution_count": null,
   "metadata": {},
   "outputs": [],
   "source": [
    "# Plot the 5 cluster\n",
    "plt.subplots(figsize=(12,6))\n",
    "plt.scatter(X[y_kmeans==0,0], X[y_kmeans==0,1], s=30, c='red',label='Cluster 0')\n",
    "plt.scatter(X[y_kmeans==1,0], X[y_kmeans==1,1], s=30, c='blue',label='Cluster 1')\n",
    "plt.scatter(X[y_kmeans==2,0], X[y_kmeans==2,1], s=30, c='green',label='Cluster 2')\n",
    "plt.scatter(X[y_kmeans==3,0], X[y_kmeans==3,1], s=30, c='cyan',label='Cluster 3')\n",
    "plt.scatter(X[y_kmeans==4,0], X[y_kmeans==4,1], s=30, c='magenta',label='Cluster 4')\n",
    "#plt.scatter(X[y_kmeans==5,0], X[y_kmeans==5,1], s=30, c='purple',label='Cluster 5')\n",
    "\n",
    "#Plot the Cluster Centroids\n",
    "plt.scatter(kmc[:,0], kmc[:,1], s=100, c='black',label='Centroids')\n",
    "plt.title('Accuracy vs Avg Atts')\n",
    "plt.xlabel('Accuracy')\n",
    "plt.ylabel('Avg Att')\n",
    "plt.legend(loc=2)\n",
    "plt.show()"
   ]
  },
  {
   "cell_type": "code",
   "execution_count": null,
   "metadata": {},
   "outputs": [],
   "source": [
    "clusters = dataset.groupby('cluster')"
   ]
  },
  {
   "cell_type": "code",
   "execution_count": null,
   "metadata": {},
   "outputs": [],
   "source": [
    "cldata = clusters.mean()\n",
    "cldata[['ACC', 'AVG_ATT']]"
   ]
  },
  {
   "cell_type": "code",
   "execution_count": null,
   "metadata": {},
   "outputs": [],
   "source": []
  },
  {
   "cell_type": "markdown",
   "metadata": {},
   "source": [
    "## Rename the Clusters Logically"
   ]
  },
  {
   "cell_type": "code",
   "execution_count": null,
   "metadata": {},
   "outputs": [],
   "source": [
    "#intuition (two-dimension)\n",
    "#  0 - Remedial, need help to improve att (46) and accuracy (56)\n",
    "#  1 - Near Achievers, needs more attempts (60)\n",
    "#  2 - Careless , High Att (61), low accuracy (56)\n",
    "#  3 - Conservative - Good Acc (69), Too few attempts (48)\n",
    "#  4 - High Achievers , with good acc (71) and att (70)"
   ]
  },
  {
   "cell_type": "code",
   "execution_count": null,
   "metadata": {},
   "outputs": [],
   "source": [
    "#2 Dimension\n",
    "%matplotlib inline\n",
    "plt.subplots(figsize=(12,6))\n",
    "plt.scatter(X[y_kmeans==0,0], X[y_kmeans==0,1], s=30, c='red',label='Remedial')\n",
    "plt.scatter(X[y_kmeans==1,0], X[y_kmeans==1,1], s=30, c='blue',label='Near Achievers')\n",
    "plt.scatter(X[y_kmeans==2,0], X[y_kmeans==2,1], s=30, c='green',label='Careless')\n",
    "plt.scatter(X[y_kmeans==3,0], X[y_kmeans==3,1], s=30, c='cyan',label='Conservative')\n",
    "plt.scatter(X[y_kmeans==4,0], X[y_kmeans==4,1], s=30, c='magenta',label='High Achievers')\n",
    "#plt.scatter(X[y_kmeans==5,0], X[y_kmeans==5,1], s=30, c='purple',label='Cluster 6')\n",
    "plt.scatter(kmc[:,0], kmc[:,1], s=100, c='black',label='Centroids')\n",
    "plt.title('Accuracy vs Avg Atts')\n",
    "plt.xlabel('Accuracy')\n",
    "plt.ylabel('Avg Att')\n",
    "plt.legend(loc=2)\n",
    "plt.show()"
   ]
  },
  {
   "cell_type": "code",
   "execution_count": null,
   "metadata": {},
   "outputs": [],
   "source": []
  },
  {
   "cell_type": "markdown",
   "metadata": {},
   "source": [
    "# Assignment\n",
    "\n",
    "You are required to cluster customers as per their annual income and spending habits\n",
    "\n",
    "The data is in the file *'/Data/Mall_Customers.csv'*\n",
    "\n"
   ]
  },
  {
   "cell_type": "code",
   "execution_count": null,
   "metadata": {},
   "outputs": [],
   "source": [
    "# Importing the libraries\n",
    "import numpy as np\n",
    "import matplotlib.pyplot as plt\n",
    "import pandas as pd\n",
    "\n"
   ]
  },
  {
   "cell_type": "code",
   "execution_count": null,
   "metadata": {},
   "outputs": [],
   "source": [
    "# Load the data set using pandas read_csv from the file '/Data/Mall_Customers.csv'\n",
    "dataset = None\n",
    "\n"
   ]
  },
  {
   "cell_type": "code",
   "execution_count": null,
   "metadata": {},
   "outputs": [],
   "source": [
    "# Check the  dataset by  inspect the head of the data\n",
    "\n",
    "dataset.head()"
   ]
  },
  {
   "cell_type": "code",
   "execution_count": null,
   "metadata": {},
   "outputs": [],
   "source": [
    "#Load the X variable with the columns Annual Income (k$) and Spending Score (1-100)\n",
    "# Hint use the column numbers in brackets instead of the column names - e.g instead of ['Genre','Age'] we can write [1,2]\n",
    "\n",
    "X = None"
   ]
  },
  {
   "cell_type": "code",
   "execution_count": null,
   "metadata": {},
   "outputs": [],
   "source": [
    "# check the shape of the X\n",
    "X.shape"
   ]
  },
  {
   "cell_type": "code",
   "execution_count": null,
   "metadata": {},
   "outputs": [],
   "source": [
    "#Scale the data - just run this code\n",
    "from sklearn.preprocessing import StandardScaler\n",
    "scaler = StandardScaler()\n",
    "X_scaled = scaler.fit_transform(X)"
   ]
  },
  {
   "cell_type": "markdown",
   "metadata": {},
   "source": [
    "## Calculate Entropy - wcss "
   ]
  },
  {
   "cell_type": "code",
   "execution_count": null,
   "metadata": {},
   "outputs": [],
   "source": [
    "#Import kmeans and add code here\n",
    "\n",
    "from sklearn.cluster import KMeans\n",
    "wcss = []\n",
    "for i in range(1, 11):\n",
    "    kmeans = KMeans(n_clusters = i, init = 'k-means++', random_state = 42)\n",
    "    kmeans.fit(X_scaled)\n",
    "    wcss.append(kmeans.inertia_)"
   ]
  },
  {
   "cell_type": "code",
   "execution_count": null,
   "metadata": {},
   "outputs": [],
   "source": [
    "#display the wcss array\n",
    "wcss"
   ]
  },
  {
   "cell_type": "markdown",
   "metadata": {},
   "source": [
    "## Plot the Elbow Curve"
   ]
  },
  {
   "cell_type": "code",
   "execution_count": null,
   "metadata": {},
   "outputs": [],
   "source": [
    "plt.plot(range(1, 11), wcss)\n",
    "plt.title('The Elbow Method')\n",
    "plt.xlabel('Number of clusters')\n",
    "plt.ylabel('WCSS')\n",
    "plt.show()"
   ]
  },
  {
   "cell_type": "markdown",
   "metadata": {},
   "source": [
    "## Fit the K means to the by choosing the right number of clusters"
   ]
  },
  {
   "cell_type": "code",
   "execution_count": null,
   "metadata": {},
   "outputs": [],
   "source": [
    "# Fitting K-Means to the dataset\n",
    "kmeans = KMeans(n_clusters = 5, init = 'k-means++', random_state = 42)\n",
    "y_kmeans = kmeans.fit_predict(X_scaled)"
   ]
  },
  {
   "cell_type": "markdown",
   "metadata": {},
   "source": [
    "## Visualize the Clusters\n",
    "\n",
    "Set plot title to 'Clusters of Customers'\n",
    "Set xlabel = 'Annual Income (k$)'\n",
    "Set ylabel = 'Spending Score (1-100)'"
   ]
  },
  {
   "cell_type": "code",
   "execution_count": null,
   "metadata": {},
   "outputs": [],
   "source": [
    "#get the kmeans cluster centroids (unscaled)\n",
    "kmc = scaler.inverse_transform(kmeans.cluster_centers_)\n"
   ]
  },
  {
   "cell_type": "code",
   "execution_count": null,
   "metadata": {},
   "outputs": [],
   "source": [
    "# Visualising the clusters\n",
    "\n",
    "plt.subplots(figsize=(9,6))\n",
    "plt.scatter(X[y_kmeans==0,0], X[y_kmeans==0,1], s=30, c='red',label='Cluster 1')\n",
    "plt.scatter(X[y_kmeans==1,0], X[y_kmeans==1,1], s=30, c='blue',label='Cluster 2')\n",
    "plt.scatter(X[y_kmeans==2,0], X[y_kmeans==2,1], s=30, c='green',label='Cluster 3')\n",
    "plt.scatter(X[y_kmeans==3,0], X[y_kmeans==3,1], s=30, c='cyan',label='Cluster 4')\n",
    "plt.scatter(X[y_kmeans==4,0], X[y_kmeans==4,1], s=30, c='magenta',label='Cluster 5')\n",
    "plt.scatter(kmc[:, 0], kmc[:, 1], s = 100, c = 'black', label = 'Centroids')\n",
    "plt.title('Clusters of customers')\n",
    "plt.xlabel('Annual Income (k$)')\n",
    "plt.ylabel('Spending Score (1-100)')\n",
    "plt.legend(loc=0)\n",
    "plt.show()"
   ]
  },
  {
   "cell_type": "markdown",
   "metadata": {},
   "source": [
    "## Rename the Clusters Logically"
   ]
  },
  {
   "cell_type": "code",
   "execution_count": null,
   "metadata": {},
   "outputs": [],
   "source": [
    "# Visualising the clusters - Run this code\n",
    "\n",
    "\n",
    "plt.subplots(figsize=(9,6))\n",
    "plt.scatter(X[y_kmeans==0,0], X[y_kmeans==0,1], s=30, c='red',label='Cluster 1')\n",
    "plt.scatter(X[y_kmeans==1,0], X[y_kmeans==1,1], s=30, c='blue',label='Cluster 2')\n",
    "plt.scatter(X[y_kmeans==2,0], X[y_kmeans==2,1], s=30, c='green',label='Cluster 3')\n",
    "plt.scatter(X[y_kmeans==3,0], X[y_kmeans==3,1], s=30, c='cyan',label='Cluster 4')\n",
    "plt.scatter(X[y_kmeans==4,0], X[y_kmeans==4,1], s=30, c='magenta',label='Cluster 5')\n",
    "plt.scatter(kmc[:, 0], kmc[:, 1], s = 100, c = 'black', label = 'Centroids')\n",
    "plt.title('Clusters of customers')\n",
    "plt.xlabel('Annual Income (k$)')\n",
    "plt.ylabel('Spending Score (1-100)')\n",
    "plt.legend(loc=0)\n",
    "plt.show()\n"
   ]
  },
  {
   "cell_type": "code",
   "execution_count": null,
   "metadata": {},
   "outputs": [],
   "source": []
  },
  {
   "cell_type": "markdown",
   "metadata": {},
   "source": [
    "# Congratulations !\n",
    "\n",
    "## You have completed your first Unsupervised Algorithm using K means clustering"
   ]
  },
  {
   "cell_type": "code",
   "execution_count": null,
   "metadata": {},
   "outputs": [],
   "source": []
  },
  {
   "cell_type": "code",
   "execution_count": null,
   "metadata": {},
   "outputs": [],
   "source": []
  },
  {
   "cell_type": "markdown",
   "metadata": {},
   "source": [
    "# Solutions"
   ]
  },
  {
   "cell_type": "code",
   "execution_count": null,
   "metadata": {},
   "outputs": [],
   "source": [
    "# Importing the libraries\n",
    "import numpy as np\n",
    "import matplotlib.pyplot as plt\n",
    "import pandas as pd\n"
   ]
  },
  {
   "cell_type": "code",
   "execution_count": null,
   "metadata": {},
   "outputs": [],
   "source": [
    "# Load the data set\n",
    "\n",
    "# Importing the dataset\n",
    "dataset = pd.read_csv('/Data/Mall_Customers.csv')\n",
    "dataset.head()\n"
   ]
  },
  {
   "cell_type": "code",
   "execution_count": null,
   "metadata": {},
   "outputs": [],
   "source": [
    "#Load the X variable with the columns Annual Income (k$) and Spending Score (1-100)\n",
    "# Hint use the column numbers in brackets instead of the column names - e.g instead of ['Genre','Age'] we can write [1,2]\n",
    "\n",
    "X = dataset.iloc[:, [3, 4]].values\n",
    "X.shape"
   ]
  },
  {
   "cell_type": "code",
   "execution_count": null,
   "metadata": {},
   "outputs": [],
   "source": [
    "#Scale the data\n",
    "from sklearn.preprocessing import StandardScaler\n",
    "scaler = StandardScaler()\n",
    "X_scaled = scaler.fit_transform(X)"
   ]
  },
  {
   "cell_type": "code",
   "execution_count": null,
   "metadata": {},
   "outputs": [],
   "source": [
    "from sklearn.cluster import KMeans\n",
    "wcss = []\n",
    "for i in range(1, 11):\n",
    "    kmeans = KMeans(n_clusters = i, init = 'k-means++', random_state = 42)\n",
    "    kmeans.fit(X_scaled)\n",
    "    wcss.append(kmeans.inertia_)"
   ]
  },
  {
   "cell_type": "code",
   "execution_count": null,
   "metadata": {},
   "outputs": [],
   "source": [
    "#display the wcss array\n",
    "wcss"
   ]
  },
  {
   "cell_type": "markdown",
   "metadata": {},
   "source": [
    "## Plot the Elbow Curve"
   ]
  },
  {
   "cell_type": "code",
   "execution_count": null,
   "metadata": {},
   "outputs": [],
   "source": [
    "plt.plot(range(1, 11), wcss)\n",
    "plt.title('The Elbow Method')\n",
    "plt.xlabel('Number of clusters')\n",
    "plt.ylabel('WCSS')\n",
    "plt.show()"
   ]
  },
  {
   "cell_type": "markdown",
   "metadata": {},
   "source": [
    "## Fit the K means to the by choosing the right number of clusters"
   ]
  },
  {
   "cell_type": "code",
   "execution_count": null,
   "metadata": {},
   "outputs": [],
   "source": [
    "# Fitting K-Means to the dataset\n",
    "kmeans = KMeans(n_clusters = 5, init = 'k-means++', random_state = 42)\n",
    "y_kmeans = kmeans.fit_predict(X_scaled)"
   ]
  },
  {
   "cell_type": "code",
   "execution_count": null,
   "metadata": {},
   "outputs": [],
   "source": [
    "#get the kmeans clusters (unscaled)\n",
    "kmc = scaler.inverse_transform(kmeans.cluster_centers_)"
   ]
  },
  {
   "cell_type": "markdown",
   "metadata": {},
   "source": [
    "## Visualize the Clusters\n",
    "\n",
    "Set plot title to 'Clusters of Customers'\n",
    "Set xlabel = 'Annual Income (k$)'\n",
    "Set ylabel = 'Spending Score (1-100)'"
   ]
  },
  {
   "cell_type": "code",
   "execution_count": null,
   "metadata": {},
   "outputs": [],
   "source": [
    "# Visualising the clusters\n",
    "\n",
    "plt.subplots(figsize=(9,6))\n",
    "plt.scatter(X[y_kmeans==0,0], X[y_kmeans==0,1], s=30, c='red',label='Cluster 1')\n",
    "plt.scatter(X[y_kmeans==1,0], X[y_kmeans==1,1], s=30, c='blue',label='Cluster 2')\n",
    "plt.scatter(X[y_kmeans==2,0], X[y_kmeans==2,1], s=30, c='green',label='Cluster 3')\n",
    "plt.scatter(X[y_kmeans==3,0], X[y_kmeans==3,1], s=30, c='cyan',label='Cluster 4')\n",
    "plt.scatter(X[y_kmeans==4,0], X[y_kmeans==4,1], s=30, c='magenta',label='Cluster 5')\n",
    "plt.scatter(kmc[:, 0], kmc[:, 1], s = 100, c = 'black', label = 'Centroids')\n",
    "plt.title('Clusters of customers')\n",
    "plt.xlabel('Annual Income (k$)')\n",
    "plt.ylabel('Spending Score (1-100)')\n",
    "plt.legend(loc=0)\n",
    "plt.show()"
   ]
  },
  {
   "cell_type": "markdown",
   "metadata": {},
   "source": [
    "## Rename the Clusters Logically"
   ]
  },
  {
   "cell_type": "code",
   "execution_count": null,
   "metadata": {},
   "outputs": [],
   "source": [
    "# Visualising the clusters\n",
    "plt.subplots(figsize=(9,6))\n",
    "plt.scatter(X[y_kmeans == 0, 0], X[y_kmeans == 0, 1], s = 50, c = 'red', label = 'Careful')\n",
    "plt.scatter(X[y_kmeans == 1, 0], X[y_kmeans == 1, 1], s = 50, c = 'blue', label = 'Target')\n",
    "plt.scatter(X[y_kmeans == 2, 0], X[y_kmeans == 2, 1], s = 50, c = 'green', label = 'Sensible')\n",
    "plt.scatter(X[y_kmeans == 3, 0], X[y_kmeans == 3, 1], s = 50, c = 'cyan', label = 'Careless')\n",
    "plt.scatter(X[y_kmeans == 4, 0], X[y_kmeans == 4, 1], s = 50, c = 'magenta', label = 'Loyal')\n",
    "plt.scatter(kmc[:, 0], kmc[:, 1], s = 100, c = 'black', label = 'Centroids')\n",
    "plt.title('Clusters of customers')\n",
    "plt.xlabel('Annual Income (k$)')\n",
    "plt.ylabel('Spending Score (1-100)')\n",
    "plt.legend()\n",
    "plt.show()"
   ]
  },
  {
   "cell_type": "markdown",
   "metadata": {},
   "source": [
    "# End of Solutions !\n",
    "\n"
   ]
  },
  {
   "cell_type": "code",
   "execution_count": null,
   "metadata": {},
   "outputs": [],
   "source": []
  },
  {
   "cell_type": "code",
   "execution_count": null,
   "metadata": {},
   "outputs": [],
   "source": []
  },
  {
   "cell_type": "code",
   "execution_count": null,
   "metadata": {},
   "outputs": [],
   "source": []
  },
  {
   "cell_type": "code",
   "execution_count": null,
   "metadata": {},
   "outputs": [],
   "source": []
  },
  {
   "cell_type": "markdown",
   "metadata": {},
   "source": [
    "# Additional Code"
   ]
  },
  {
   "cell_type": "code",
   "execution_count": null,
   "metadata": {},
   "outputs": [],
   "source": [
    "# For multiple dimensions\n",
    "\n",
    "plt.subplots(figsize=(12,6))\n",
    "plt.scatter(X[y_kmeans==0,3], X[y_kmeans==0,4], s=30, c='red',label='Cluster 1')\n",
    "plt.scatter(X[y_kmeans==1,3], X[y_kmeans==1,4], s=30, c='blue',label='Cluster 2')\n",
    "plt.scatter(X[y_kmeans==2,3], X[y_kmeans==2,4], s=30, c='green',label='Cluster 3')\n",
    "plt.scatter(X[y_kmeans==3,3], X[y_kmeans==3,4], s=30, c='cyan',label='Cluster 4')\n",
    "plt.scatter(X[y_kmeans==4,3], X[y_kmeans==4,4], s=30, c='magenta',label='Cluster 5')\n",
    "#plt.scatter(X[y_kmeans==5,0], X[y_kmeans==5,1], s=30, c='purple',label='Cluster 6')\n",
    "plt.scatter(kmc[:,3], kmc[:,4], s=100, c='black',label='Centroids')\n",
    "plt.title('Accuracy vs Avg Atts')\n",
    "plt.xlabel('Accuracy')\n",
    "plt.ylabel('Avg Att')\n",
    "plt.legend(loc=2)\n",
    "plt.show()"
   ]
  },
  {
   "cell_type": "code",
   "execution_count": null,
   "metadata": {},
   "outputs": [],
   "source": [
    "#intuition (multi-dimension)\n",
    "#  0 - High Achievers, with good acc and att\n",
    "#  1 - Near Achievers (10 mocks,  65 acc, 60 att)\n",
    "#  2-  carelesss, 61 ATT with 56 acc\n",
    "#  3 - Low Attempters - 81%ilers, 69% acc, Low attempts (48)\n",
    "#  4 - High Achievers (10 mocks, 71 acc and 71 att)"
   ]
  },
  {
   "cell_type": "code",
   "execution_count": null,
   "metadata": {},
   "outputs": [],
   "source": [
    "# Displaying using SNS\n",
    "dispdf = pd.DataFrame({'acc':X[:,0],'att': X[:,1], 'cluster':y_kmeans})\n",
    "centroids = pd.DataFrame({'acc':kmc[:,0],'att': kmc[:,1]})\n",
    "centroids['cluster']='Centroid'\n",
    "#dispdf = dispdf.append(centroids, ignore_index=True)\n",
    "#dispdf.loc[(dispdf.cluster=='c'),'size']=200"
   ]
  },
  {
   "cell_type": "code",
   "execution_count": null,
   "metadata": {},
   "outputs": [],
   "source": [
    "# for two dimensions\n",
    "plt.figure(figsize=(9,9))\n",
    "sns.scatterplot(\"acc\", \"att\", s=50, hue=\"cluster\",data=dispdf,palette=['r','g','b','c','m'])\n",
    "sns.scatterplot(\"acc\", \"att\", s=100,data=centroids,color=['black'], label='Clusters')\n"
   ]
  }
 ],
 "metadata": {
  "kernelspec": {
   "display_name": "Python 3",
   "language": "python",
   "name": "python3"
  },
  "language_info": {
   "codemirror_mode": {
    "name": "ipython",
    "version": 3
   },
   "file_extension": ".py",
   "mimetype": "text/x-python",
   "name": "python",
   "nbconvert_exporter": "python",
   "pygments_lexer": "ipython3",
   "version": "3.7.6"
  }
 },
 "nbformat": 4,
 "nbformat_minor": 2
}
