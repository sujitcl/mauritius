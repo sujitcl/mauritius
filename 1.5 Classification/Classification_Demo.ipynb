{
  "nbformat": 4,
  "nbformat_minor": 0,
  "metadata": {
    "kernelspec": {
      "display_name": "Python 3",
      "language": "python",
      "name": "python3"
    },
    "language_info": {
      "codemirror_mode": {
        "name": "ipython",
        "version": 3
      },
      "file_extension": ".py",
      "mimetype": "text/x-python",
      "name": "python",
      "nbconvert_exporter": "python",
      "pygments_lexer": "ipython3",
      "version": "3.7.6"
    },
    "colab": {
      "name": "1. Classification Demo.ipynb",
      "provenance": [],
      "collapsed_sections": [],
      "include_colab_link": true
    }
  },
  "cells": [
    {
      "cell_type": "markdown",
      "metadata": {
        "id": "view-in-github",
        "colab_type": "text"
      },
      "source": [
        "<a href=\"https://colab.research.google.com/github/sujitcl/mauritius/blob/master/1.5%20Classification/Classification_Demo.ipynb\" target=\"_parent\"><img src=\"https://colab.research.google.com/assets/colab-badge.svg\" alt=\"Open In Colab\"/></a>"
      ]
    },
    {
      "cell_type": "markdown",
      "metadata": {
        "id": "40QyLYzxAorD",
        "colab_type": "text"
      },
      "source": [
        "# Supervised Machine Learning Systems - (Classification)"
      ]
    },
    {
      "cell_type": "code",
      "metadata": {
        "id": "sAmeRwwoAorF",
        "colab_type": "code",
        "colab": {}
      },
      "source": [
        "# Helper functions to display a video or an image \n",
        "from IPython.display import HTML\n",
        "def display_video(src):\n",
        "    print('Source : '+src+ '?autoplay=1;modestbranding=1;rel=0')\n",
        "    return HTML('<iframe width=\"800\" height=\"400\" src=' + src + '?autoplay=1;modestbranding=1;rel=0 frameborder=\"0\" allowfullscreen></iframe>')\n",
        "\n",
        "def display_image(src):\n",
        "    print('Source : '+src)\n",
        "    return HTML('<img width=\"600\" height=\"300\" src=' + src + '></img>')\n",
        "\n",
        "def displayResults (y_test, predictions, n=10):\n",
        "    Results = pd.DataFrame({'Actual': y_test})\n",
        "    column = pd.DataFrame({'Predictions': predictions})\n",
        "    Results = Results.join(column.set_index(Results.index))\n",
        "    return Results.head(n)\n",
        "\n",
        "def display_cm(cm):\n",
        "    plt.clf()\n",
        "    plt.imshow(cm, interpolation='nearest', cmap=plt.cm.Wistia)\n",
        "    classNames = ['Benign','Malignant']\n",
        "    plt.title('Confusion Matrix')\n",
        "    plt.ylabel('True label')\n",
        "    plt.xlabel('Predicted label')\n",
        "    tick_marks = np.arange(2)\n",
        "    plt.xticks(tick_marks, classNames, rotation=45)\n",
        "    plt.yticks(tick_marks, classNames)\n",
        "    s = [['TN','FP'], ['FN', 'TP']]\n",
        "    for i in range(2):\n",
        "        for j in range(2):\n",
        "            plt.text(j,i, str(s[i][j])+\" = \"+str(cm[i][j]))\n",
        "    plt.show()"
      ],
      "execution_count": null,
      "outputs": []
    },
    {
      "cell_type": "markdown",
      "metadata": {
        "id": "EeqlLdVyAorJ",
        "colab_type": "text"
      },
      "source": [
        "## What is a Classification Problem ?"
      ]
    },
    {
      "cell_type": "markdown",
      "metadata": {
        "id": "JYQdKePtAorJ",
        "colab_type": "text"
      },
      "source": [
        "We briefly talked about Classification problem in our previous notebook.\n",
        "\n",
        "1. **Independent Variables for classification** - These are also called features of our dataset. They are the variables which when varied can affect our target classes that we want to predict.\n",
        "2. **Dependent Variable for classification** - When your target variable has certain class labels, its a classification problem. For instance classifying pictures of dogs and cats or a tumour to be cancerous or non cancerous etc. You are not predicting a continuous quantity here but different classes.\n",
        "\n",
        "Lets take an example to understand it clearly :"
      ]
    },
    {
      "cell_type": "markdown",
      "metadata": {
        "id": "sy3ZRU7qAorK",
        "colab_type": "text"
      },
      "source": [
        "<b> [Breast Cancer Diagnostic] </b>"
      ]
    },
    {
      "cell_type": "markdown",
      "metadata": {
        "id": "o8OlJaS3AorK",
        "colab_type": "text"
      },
      "source": [
        "There are two main classifications of tumors. One is known as benign and the other as malignant. A benign tumor is a tumor that does not invade its surrounding tissue or spread around the body. A malignant tumor is a tumor that may invade its surrounding tissue or spread around the body."
      ]
    },
    {
      "cell_type": "code",
      "metadata": {
        "id": "GqY2OsgQAorL",
        "colab_type": "code",
        "colab": {}
      },
      "source": [
        "display_image('https://www.verywellhealth.com/thmb/xnYC1DVmfPtwjWCEdO0HjSZbcBo=/1787x0/filters:no_upscale():max_bytes(150000):strip_icc():format(webp)/514240-article-img-malignant-vs-benign-tumor2111891f-54cc-47aa-8967-4cd5411fdb2f-5a2848f122fa3a0037c544be.png')"
      ],
      "execution_count": null,
      "outputs": []
    },
    {
      "cell_type": "markdown",
      "metadata": {
        "id": "55kFlfWOAorP",
        "colab_type": "text"
      },
      "source": [
        "Our target it to train a Logistic Regression model that can predict whether the cancer is benign (B) or malignant (M)."
      ]
    },
    {
      "cell_type": "markdown",
      "metadata": {
        "id": "LAAHwW3TAorQ",
        "colab_type": "text"
      },
      "source": [
        "Attribute Information:\n",
        "<br>1) ID number \n",
        "<br>2) Diagnosis (M = malignant, B = benign) \n",
        "<br>3-32) Ten real-valued features are computed for each cell nucleus: \n",
        "<br>a) radius (mean of distances from center to points on the perimeter) \n",
        "<br>b) texture (standard deviation of gray-scale values) \n",
        "<br>c) perimeter \n",
        "<br>d) area \n",
        "<br>e) smoothness (local variation in radius lengths) \n",
        "<br>f) compactness (perimeter^2 / area - 1.0) \n",
        "<br>g) concavity (severity of concave portions of the contour) \n",
        "<br>h) concave points (number of concave portions of the contour) \n",
        "<br>i) symmetry \n",
        "<br>j) fractal dimension (\"coastline approximation\" - 1)\n",
        "\n",
        "**`'Diagnosis'`** column is the **Dependent Variable or target column** because we want our algorithm to predict this class.\n",
        "\n",
        "**`'1,3-32'`** are your **Features or Independent Variables** which will help you predict the Benign/Malignant class. Vary any one of them and it is going to affect your Diagnostic."
      ]
    },
    {
      "cell_type": "markdown",
      "metadata": {
        "id": "2IRw12GEAorQ",
        "colab_type": "text"
      },
      "source": [
        "## Basic Intuition "
      ]
    },
    {
      "cell_type": "markdown",
      "metadata": {
        "id": "6LrhuHegAorR",
        "colab_type": "text"
      },
      "source": [
        "Now we will discuss about the Logistic Regression algorithm. Don't be confused by the name \"Logistic Regression\"; it is named that way for historical reasons and is actually an approach to classification problems, not regression problems."
      ]
    },
    {
      "cell_type": "markdown",
      "metadata": {
        "id": "VEU3UBQOAorR",
        "colab_type": "text"
      },
      "source": [
        "Instead of our output vector y being a continuous range of values, it will only be 'M' or 'B'."
      ]
    },
    {
      "cell_type": "code",
      "metadata": {
        "id": "Z5aUJ03ZAorS",
        "colab_type": "code",
        "colab": {}
      },
      "source": [
        "# Importing required libraries\n",
        "import pandas as pd\n",
        "import numpy as np\n",
        "import matplotlib.pyplot as plt"
      ],
      "execution_count": null,
      "outputs": []
    },
    {
      "cell_type": "markdown",
      "metadata": {
        "id": "zG30fNfPAorV",
        "colab_type": "text"
      },
      "source": [
        "## Read the CSV file  ../Data/Breast_Cancer_Diagnostic.csv"
      ]
    },
    {
      "cell_type": "code",
      "metadata": {
        "id": "Mld43wTUAorV",
        "colab_type": "code",
        "colab": {}
      },
      "source": [
        "# Loding the dataset into pandas dataframe and print the sample of first 5 rows\n",
        "\n",
        "df= pd.read_csv('https://raw.githubusercontent.com/sujitcl/Data/master/Breast_Cancer_Diagnostic.csv')\n",
        "df.head(10)"
      ],
      "execution_count": null,
      "outputs": []
    },
    {
      "cell_type": "code",
      "metadata": {
        "id": "kq_sxQs0AorY",
        "colab_type": "code",
        "colab": {}
      },
      "source": [
        "df.shape"
      ],
      "execution_count": null,
      "outputs": []
    },
    {
      "cell_type": "markdown",
      "metadata": {
        "id": "iLqHBIUTAorb",
        "colab_type": "text"
      },
      "source": [
        "*We will only consider ten real-valued features in this project for diagnostic!<br>\n",
        "Let's separate the required features along with diagnosis column.*"
      ]
    },
    {
      "cell_type": "code",
      "metadata": {
        "id": "BFhZ_n9vAorc",
        "colab_type": "code",
        "colab": {}
      },
      "source": [
        "df.columns"
      ],
      "execution_count": null,
      "outputs": []
    },
    {
      "cell_type": "code",
      "metadata": {
        "id": "ZTmtcDnqAorf",
        "colab_type": "code",
        "colab": {}
      },
      "source": [
        "df = df[['radius_mean', 'texture_mean', 'perimeter_mean',\n",
        "       'area_mean', 'smoothness_mean', 'compactness_mean', 'concavity_mean',\n",
        "       'concave points_mean', 'symmetry_mean', 'fractal_dimension_mean','diagnosis']]"
      ],
      "execution_count": null,
      "outputs": []
    },
    {
      "cell_type": "code",
      "metadata": {
        "scrolled": true,
        "id": "AyBLrFgeAori",
        "colab_type": "code",
        "colab": {}
      },
      "source": [
        "df.head()"
      ],
      "execution_count": null,
      "outputs": []
    },
    {
      "cell_type": "code",
      "metadata": {
        "id": "qYebu81VAork",
        "colab_type": "code",
        "colab": {}
      },
      "source": [
        "df.shape"
      ],
      "execution_count": null,
      "outputs": []
    },
    {
      "cell_type": "code",
      "metadata": {
        "scrolled": true,
        "id": "6-_xMZHvAoro",
        "colab_type": "code",
        "colab": {}
      },
      "source": [
        "df['diagnosis'].value_counts()"
      ],
      "execution_count": null,
      "outputs": []
    },
    {
      "cell_type": "markdown",
      "metadata": {
        "id": "EH5AlKZ6Aorr",
        "colab_type": "text"
      },
      "source": [
        "## Check if Any Null Values are there"
      ]
    },
    {
      "cell_type": "code",
      "metadata": {
        "id": "7NUd1N_3Aors",
        "colab_type": "code",
        "colab": {}
      },
      "source": [
        "df.columns[df.isnull().any()]"
      ],
      "execution_count": null,
      "outputs": []
    },
    {
      "cell_type": "markdown",
      "metadata": {
        "id": "6JEMcMAjAoru",
        "colab_type": "text"
      },
      "source": [
        "## Load X and Y variables"
      ]
    },
    {
      "cell_type": "code",
      "metadata": {
        "id": "nkYV9a4qAorv",
        "colab_type": "code",
        "colab": {}
      },
      "source": [
        "# Load the features to a variable X\n",
        "# x is created by simply dropping the diagnosis column and retaining all others\n",
        "X = df.drop('diagnosis', axis = 1)\n",
        "# Load the dependent variable to y\n",
        "y = df['diagnosis']"
      ],
      "execution_count": null,
      "outputs": []
    },
    {
      "cell_type": "code",
      "metadata": {
        "id": "fFe7yjwCAorz",
        "colab_type": "code",
        "colab": {}
      },
      "source": [
        "X.head()"
      ],
      "execution_count": null,
      "outputs": []
    },
    {
      "cell_type": "code",
      "metadata": {
        "id": "od7YSZVEAor4",
        "colab_type": "code",
        "colab": {}
      },
      "source": [
        "y.tail(10)"
      ],
      "execution_count": null,
      "outputs": []
    },
    {
      "cell_type": "markdown",
      "metadata": {
        "id": "A-KD9zf7Aor9",
        "colab_type": "text"
      },
      "source": [
        "## Split Test Train"
      ]
    },
    {
      "cell_type": "markdown",
      "metadata": {
        "id": "KPOTU-LsAor9",
        "colab_type": "text"
      },
      "source": [
        "**Train-Test split -** We split our data into two parts, namely, the train set and the test set (ideally its a 70-30 train-test split which is upto you). We then try to build our function f(x) (aka model) using the train set and see how well it does on the test set.   "
      ]
    },
    {
      "cell_type": "code",
      "metadata": {
        "id": "PHDIzfmVAor_",
        "colab_type": "code",
        "colab": {}
      },
      "source": [
        "from sklearn.model_selection import train_test_split\n",
        "X_train, X_test, y_train, y_test = train_test_split(X, y, test_size=0.30, random_state=1)"
      ],
      "execution_count": null,
      "outputs": []
    },
    {
      "cell_type": "code",
      "metadata": {
        "id": "DXwnJ4CJAosE",
        "colab_type": "code",
        "colab": {}
      },
      "source": [
        "X_train.shape,X_test.shape"
      ],
      "execution_count": null,
      "outputs": []
    },
    {
      "cell_type": "markdown",
      "metadata": {
        "id": "wvgMtdXSAosI",
        "colab_type": "text"
      },
      "source": [
        "## Create an Instance of the classifier"
      ]
    },
    {
      "cell_type": "code",
      "metadata": {
        "id": "jzB70ZArAosI",
        "colab_type": "code",
        "colab": {}
      },
      "source": [
        "# Let's create an instance for the LogisticRegression model\n",
        "from sklearn.linear_model import LogisticRegression\n",
        "Classifier = LogisticRegression(max_iter=200)"
      ],
      "execution_count": null,
      "outputs": []
    },
    {
      "cell_type": "markdown",
      "metadata": {
        "id": "JO9png7tAosM",
        "colab_type": "text"
      },
      "source": [
        "## Build the Model using Fit"
      ]
    },
    {
      "cell_type": "code",
      "metadata": {
        "id": "bEPdbQdmAosN",
        "colab_type": "code",
        "colab": {}
      },
      "source": [
        "# Training the model on our train dataset\n",
        "Classifier.fit(X_train,y_train)"
      ],
      "execution_count": null,
      "outputs": []
    },
    {
      "cell_type": "markdown",
      "metadata": {
        "id": "3E_BYGKVAosR",
        "colab_type": "text"
      },
      "source": [
        "## Get the Predictions"
      ]
    },
    {
      "cell_type": "code",
      "metadata": {
        "id": "X1-Q0bQMAosR",
        "colab_type": "code",
        "colab": {}
      },
      "source": [
        "# Getting predictions from the model \n",
        "predictions = Classifier.predict(X_test)"
      ],
      "execution_count": null,
      "outputs": []
    },
    {
      "cell_type": "code",
      "metadata": {
        "id": "ybtk1csUAosV",
        "colab_type": "code",
        "colab": {}
      },
      "source": [
        "predictions"
      ],
      "execution_count": null,
      "outputs": []
    },
    {
      "cell_type": "markdown",
      "metadata": {
        "id": "nEMvUaQzAosY",
        "colab_type": "text"
      },
      "source": [
        "## Model Evaluation Techniques for Classification "
      ]
    },
    {
      "cell_type": "markdown",
      "metadata": {
        "id": "mqg51Sc0AosY",
        "colab_type": "text"
      },
      "source": [
        "### 1. Get Accuracy, precision, Recall and F1 Scores"
      ]
    },
    {
      "cell_type": "markdown",
      "metadata": {
        "id": "SdxPkVmIAosZ",
        "colab_type": "text"
      },
      "source": [
        "Accuracy is simply calculated as number of classes predicted right divided by total number of samples."
      ]
    },
    {
      "cell_type": "code",
      "metadata": {
        "id": "O-mBd_SnAosZ",
        "colab_type": "code",
        "colab": {}
      },
      "source": [
        "# Getting classification report\n",
        "from sklearn.metrics import classification_report\n",
        "report = classification_report(y_test,predictions)\n",
        "\n",
        "print(report)"
      ],
      "execution_count": null,
      "outputs": []
    },
    {
      "cell_type": "markdown",
      "metadata": {
        "id": "3RQPY5yvAosd",
        "colab_type": "text"
      },
      "source": [
        "### 2. The confusion matrix"
      ]
    },
    {
      "cell_type": "code",
      "metadata": {
        "id": "vgEU1_PXAosd",
        "colab_type": "code",
        "colab": {}
      },
      "source": [
        "from sklearn.metrics import confusion_matrix, recall_score, precision_score\n",
        " \n",
        "cm = confusion_matrix(y_test, predictions)\n",
        "display_cm(cm)\n",
        "\n",
        "# Assigning Variables for convinience\n",
        "TN = 98\n",
        "FP = 10\n",
        "FN = 11\n",
        "TP = 52\n",
        "\n",
        "accuracy = (TP+TN) / float(TP+TN+FN + TP)\n",
        "print('Accuracy ',accuracy)\n",
        "sensitivity = TP / float(FN + TP)\n",
        "print('sensitivity or recall:',sensitivity)\n",
        "precision = TP / float(TP + FP)\n",
        "print('precision',precision)\n",
        "specificity = TN / (TN + FP)\n",
        "print('specificity',specificity)"
      ],
      "execution_count": null,
      "outputs": []
    },
    {
      "cell_type": "markdown",
      "metadata": {
        "id": "hOh-VjcuAosh",
        "colab_type": "text"
      },
      "source": [
        "#### Positive Predictive Value or Precision : \n",
        " When a positive value is predicted, how often is the prediction correct?\n",
        "<br> How \"precise\" is the classifier when predicting positive instances?\n",
        "<br><b>Sensitivity or Recall or True Positive Rate:</b> \n",
        "<br>When the actual value is positive, how often is the prediction correct?\n",
        "<br>Something we want to maximize and Minimise FN\n",
        "<br>How \"sensitive\" is the classifier to detecting positive instances?\n",
        "<br>Also known as \"True Positive Rate\" or \"Recall\"\n",
        "<br>TP / TP + FN (all positive)\n",
        "#### Specificity:  When the actual value is negative, how often is the prediction correct?\n",
        "Something we want to maximize\n",
        "<br>How \"specific\" (or \"selective\") is the classifier in predicting positive instances?\n",
        "<br>TN / TN + FP (all negative)"
      ]
    },
    {
      "cell_type": "markdown",
      "metadata": {
        "id": "LRXVdrc0Aosh",
        "colab_type": "text"
      },
      "source": [
        "### Compare  a Sample of  Predictions to Actuals"
      ]
    },
    {
      "cell_type": "code",
      "metadata": {
        "scrolled": true,
        "id": "vrY_pAqSAosi",
        "colab_type": "code",
        "colab": {}
      },
      "source": [
        "displayResults(y_test,predictions)\n"
      ],
      "execution_count": null,
      "outputs": []
    },
    {
      "cell_type": "markdown",
      "metadata": {
        "id": "rO0P8MAAAosl",
        "colab_type": "text"
      },
      "source": [
        "**Conclusion:**\n",
        "<br>Our model is specific but not that sensitive.\n",
        "<br>Confusion matrix gives you a more complete picture of how your classifier is performing\n",
        "<br>Also allows you to compute various classification metrics, and these metrics can guide your model selection"
      ]
    },
    {
      "cell_type": "markdown",
      "metadata": {
        "collapsed": true,
        "id": "hR8pcIYEAosl",
        "colab_type": "text"
      },
      "source": [
        "Which metrics should you focus on?\n",
        "\n",
        "Choice of metric depends on your business objective\n",
        "Identify if FP or FN is more important to reduce\n",
        "Choose metric with relevant variable (FP or FN in the equation)\n",
        "Spam filter (positive class is \"spam\"):\n",
        "Optimize for precision or specificity\n",
        "precision\n",
        "false positive as variable\n",
        "specificity\n",
        "false positive as variable\n",
        "Because false negatives (spam goes to the inbox) are more acceptable than false positives (non-spam is caught by the spam filter)\n",
        "Fraudulent transaction detector (positive class is \"fraud\"):\n",
        "Optimize for sensitivity\n",
        "FN as a variable\n",
        "Because false positives (normal transactions that are flagged as possible fraud) are more acceptable than false negatives (fraudulent transactions that are not detected)\n"
      ]
    },
    {
      "cell_type": "code",
      "metadata": {
        "id": "VRlM_9xEAosm",
        "colab_type": "code",
        "colab": {}
      },
      "source": [
        ""
      ],
      "execution_count": null,
      "outputs": []
    },
    {
      "cell_type": "code",
      "metadata": {
        "id": "3f3N7QRtAoso",
        "colab_type": "code",
        "colab": {}
      },
      "source": [
        ""
      ],
      "execution_count": null,
      "outputs": []
    },
    {
      "cell_type": "code",
      "metadata": {
        "id": "bhdBYaEhAosr",
        "colab_type": "code",
        "colab": {}
      },
      "source": [
        ""
      ],
      "execution_count": null,
      "outputs": []
    }
  ]
}