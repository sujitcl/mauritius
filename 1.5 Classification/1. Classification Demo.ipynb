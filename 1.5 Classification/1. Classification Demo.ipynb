{
  "nbformat": 4,
  "nbformat_minor": 0,
  "metadata": {
    "kernelspec": {
      "display_name": "Python 3",
      "language": "python",
      "name": "python3"
    },
    "language_info": {
      "codemirror_mode": {
        "name": "ipython",
        "version": 3
      },
      "file_extension": ".py",
      "mimetype": "text/x-python",
      "name": "python",
      "nbconvert_exporter": "python",
      "pygments_lexer": "ipython3",
      "version": "3.7.6"
    },
    "colab": {
      "name": "1. Classification Demo.ipynb",
      "provenance": []
    }
  },
  "cells": [
    {
      "cell_type": "markdown",
      "metadata": {
        "id": "aes39dXU6QTj",
        "colab_type": "text"
      },
      "source": [
        "# Supervised Machine Learning Systems - (Classification)"
      ]
    },
    {
      "cell_type": "code",
      "metadata": {
        "id": "gGCoaD3l6QTk",
        "colab_type": "code",
        "colab": {}
      },
      "source": [
        "# Helper functions to display a video or an image \n",
        "from IPython.display import HTML\n",
        "def display_video(src):\n",
        "    print('Source : '+src+ '?autoplay=1;modestbranding=1;rel=0')\n",
        "    return HTML('<iframe width=\"800\" height=\"400\" src=' + src + '?autoplay=1;modestbranding=1;rel=0 frameborder=\"0\" allowfullscreen></iframe>')\n",
        "\n",
        "def display_image(src):\n",
        "    print('Source : '+src)\n",
        "    return HTML('<img width=\"600\" height=\"300\" src=' + src + '></img>')\n",
        "\n",
        "def displayResults (y_test, predictions, n=10):\n",
        "    Results = pd.DataFrame({'Actual': y_test})\n",
        "    column = pd.DataFrame({'Predictions': predictions})\n",
        "    Results = Results.join(column.set_index(Results.index))\n",
        "    return Results.head(n)\n",
        "\n",
        "def display_cm(cm):\n",
        "    plt.clf()\n",
        "    plt.imshow(cm, interpolation='nearest', cmap=plt.cm.Wistia)\n",
        "    classNames = ['Benign','Malignant']\n",
        "    plt.title('Confusion Matrix')\n",
        "    plt.ylabel('True label')\n",
        "    plt.xlabel('Predicted label')\n",
        "    tick_marks = np.arange(2)\n",
        "    plt.xticks(tick_marks, classNames, rotation=45)\n",
        "    plt.yticks(tick_marks, classNames)\n",
        "    s = [['TN','FP'], ['FN', 'TP']]\n",
        "    for i in range(2):\n",
        "        for j in range(2):\n",
        "            plt.text(j,i, str(s[i][j])+\" = \"+str(cm[i][j]))\n",
        "    plt.show()"
      ],
      "execution_count": null,
      "outputs": []
    },
    {
      "cell_type": "markdown",
      "metadata": {
        "id": "zZZ28mUi6QTo",
        "colab_type": "text"
      },
      "source": [
        "## What is a Classification Problem ?"
      ]
    },
    {
      "cell_type": "markdown",
      "metadata": {
        "id": "I15h1M_i6QTp",
        "colab_type": "text"
      },
      "source": [
        "We briefly talked about Classification problem in our previous notebook.\n",
        "\n",
        "1. **Independent Variables for classification** - These are also called features of our dataset. They are the variables which when varied can affect our target classes that we want to predict.\n",
        "2. **Dependent Variable for classification** - When your target variable has certain class labels, its a classification problem. For instance classifying pictures of dogs and cats or a tumour to be cancerous or non cancerous etc. You are not predicting a continuous quantity here but different classes.\n",
        "\n",
        "Lets take an example to understand it clearly :"
      ]
    },
    {
      "cell_type": "markdown",
      "metadata": {
        "id": "vIBVPzOj6QTp",
        "colab_type": "text"
      },
      "source": [
        "<b> [Breast Cancer Diagnostic] </b>"
      ]
    },
    {
      "cell_type": "markdown",
      "metadata": {
        "id": "Hm7CnCvI6QTq",
        "colab_type": "text"
      },
      "source": [
        "There are two main classifications of tumors. One is known as benign and the other as malignant. A benign tumor is a tumor that does not invade its surrounding tissue or spread around the body. A malignant tumor is a tumor that may invade its surrounding tissue or spread around the body."
      ]
    },
    {
      "cell_type": "code",
      "metadata": {
        "id": "opgxpKJS6QTq",
        "colab_type": "code",
        "colab": {},
        "outputId": "a0faff4f-fd3e-4943-f168-48743a040ae7"
      },
      "source": [
        "display_image('https://www.verywellhealth.com/thmb/xnYC1DVmfPtwjWCEdO0HjSZbcBo=/1787x0/filters:no_upscale():max_bytes(150000):strip_icc():format(webp)/514240-article-img-malignant-vs-benign-tumor2111891f-54cc-47aa-8967-4cd5411fdb2f-5a2848f122fa3a0037c544be.png')"
      ],
      "execution_count": null,
      "outputs": [
        {
          "output_type": "stream",
          "text": [
            "Source : https://www.verywellhealth.com/thmb/xnYC1DVmfPtwjWCEdO0HjSZbcBo=/1787x0/filters:no_upscale():max_bytes(150000):strip_icc():format(webp)/514240-article-img-malignant-vs-benign-tumor2111891f-54cc-47aa-8967-4cd5411fdb2f-5a2848f122fa3a0037c544be.png\n"
          ],
          "name": "stdout"
        },
        {
          "output_type": "execute_result",
          "data": {
            "text/html": [
              "<img width=\"600\" height=\"300\" src=https://www.verywellhealth.com/thmb/xnYC1DVmfPtwjWCEdO0HjSZbcBo=/1787x0/filters:no_upscale():max_bytes(150000):strip_icc():format(webp)/514240-article-img-malignant-vs-benign-tumor2111891f-54cc-47aa-8967-4cd5411fdb2f-5a2848f122fa3a0037c544be.png></img>"
            ],
            "text/plain": [
              "<IPython.core.display.HTML object>"
            ]
          },
          "metadata": {
            "tags": []
          },
          "execution_count": 24
        }
      ]
    },
    {
      "cell_type": "markdown",
      "metadata": {
        "id": "zgcRvuwV6QTu",
        "colab_type": "text"
      },
      "source": [
        "Our target it to train a Logistic Regression model that can predict whether the cancer is benign (B) or malignant (M)."
      ]
    },
    {
      "cell_type": "markdown",
      "metadata": {
        "id": "-IvoPDMV6QTv",
        "colab_type": "text"
      },
      "source": [
        "Attribute Information:\n",
        "<br>1) ID number \n",
        "<br>2) Diagnosis (M = malignant, B = benign) \n",
        "<br>3-32) Ten real-valued features are computed for each cell nucleus: \n",
        "<br>a) radius (mean of distances from center to points on the perimeter) \n",
        "<br>b) texture (standard deviation of gray-scale values) \n",
        "<br>c) perimeter \n",
        "<br>d) area \n",
        "<br>e) smoothness (local variation in radius lengths) \n",
        "<br>f) compactness (perimeter^2 / area - 1.0) \n",
        "<br>g) concavity (severity of concave portions of the contour) \n",
        "<br>h) concave points (number of concave portions of the contour) \n",
        "<br>i) symmetry \n",
        "<br>j) fractal dimension (\"coastline approximation\" - 1)\n",
        "\n",
        "**`'Diagnosis'`** column is the **Dependent Variable or target column** because we want our algorithm to predict this class.\n",
        "\n",
        "**`'1,3-32'`** are your **Features or Independent Variables** which will help you predict the Benign/Malignant class. Vary any one of them and it is going to affect your Diagnostic."
      ]
    },
    {
      "cell_type": "markdown",
      "metadata": {
        "id": "D3isbojn6QTw",
        "colab_type": "text"
      },
      "source": [
        "## Basic Intuition "
      ]
    },
    {
      "cell_type": "markdown",
      "metadata": {
        "id": "D3hXtpQ06QTw",
        "colab_type": "text"
      },
      "source": [
        "Now we will discuss about the Logistic Regression algorithm. Don't be confused by the name \"Logistic Regression\"; it is named that way for historical reasons and is actually an approach to classification problems, not regression problems."
      ]
    },
    {
      "cell_type": "markdown",
      "metadata": {
        "id": "9EXvIxLu6QTx",
        "colab_type": "text"
      },
      "source": [
        "Instead of our output vector y being a continuous range of values, it will only be 'M' or 'B'."
      ]
    },
    {
      "cell_type": "code",
      "metadata": {
        "id": "IwlcFCdG6QTx",
        "colab_type": "code",
        "colab": {}
      },
      "source": [
        "# Importing required libraries\n",
        "import pandas as pd\n",
        "import numpy as np\n",
        "import matplotlib.pyplot as plt"
      ],
      "execution_count": 30,
      "outputs": []
    },
    {
      "cell_type": "markdown",
      "metadata": {
        "id": "EGHgJ2In6QT0",
        "colab_type": "text"
      },
      "source": [
        "## Read the CSV file  ../Data/Breast_Cancer_Diagnostic.csv"
      ]
    },
    {
      "cell_type": "code",
      "metadata": {
        "id": "wwVodAWG6QT1",
        "colab_type": "code",
        "colab": {
          "base_uri": "https://localhost:8080/",
          "height": 410
        },
        "outputId": "c8639bba-f0b1-446d-a6fa-01ee06fceacb"
      },
      "source": [
        "# Loding the dataset into pandas dataframe and print the sample of first 5 rows\n",
        "\n",
        "from google.colab import drive\n",
        "drive.mount('/content/drive')\n",
        "path='/content/drive/My Drive/Data/Breast_Cancer_Diagnostic.csv'\n",
        "#df = pd.read_csv('/Data/Breast_Cancer_Diagnostic.csv')\n",
        "df.head(10)"
      ],
      "execution_count": 31,
      "outputs": [
        {
          "output_type": "stream",
          "text": [
            "Drive already mounted at /content/drive; to attempt to forcibly remount, call drive.mount(\"/content/drive\", force_remount=True).\n"
          ],
          "name": "stdout"
        },
        {
          "output_type": "execute_result",
          "data": {
            "text/html": [
              "<div>\n",
              "<style scoped>\n",
              "    .dataframe tbody tr th:only-of-type {\n",
              "        vertical-align: middle;\n",
              "    }\n",
              "\n",
              "    .dataframe tbody tr th {\n",
              "        vertical-align: top;\n",
              "    }\n",
              "\n",
              "    .dataframe thead th {\n",
              "        text-align: right;\n",
              "    }\n",
              "</style>\n",
              "<table border=\"1\" class=\"dataframe\">\n",
              "  <thead>\n",
              "    <tr style=\"text-align: right;\">\n",
              "      <th></th>\n",
              "      <th>radius_mean</th>\n",
              "      <th>texture_mean</th>\n",
              "      <th>perimeter_mean</th>\n",
              "      <th>area_mean</th>\n",
              "      <th>smoothness_mean</th>\n",
              "      <th>compactness_mean</th>\n",
              "      <th>concavity_mean</th>\n",
              "      <th>concave points_mean</th>\n",
              "      <th>symmetry_mean</th>\n",
              "      <th>fractal_dimension_mean</th>\n",
              "      <th>diagnosis</th>\n",
              "    </tr>\n",
              "  </thead>\n",
              "  <tbody>\n",
              "    <tr>\n",
              "      <th>0</th>\n",
              "      <td>17.99</td>\n",
              "      <td>10.38</td>\n",
              "      <td>122.80</td>\n",
              "      <td>1001.0</td>\n",
              "      <td>0.11840</td>\n",
              "      <td>0.27760</td>\n",
              "      <td>0.30010</td>\n",
              "      <td>0.14710</td>\n",
              "      <td>0.2419</td>\n",
              "      <td>0.07871</td>\n",
              "      <td>M</td>\n",
              "    </tr>\n",
              "    <tr>\n",
              "      <th>1</th>\n",
              "      <td>20.57</td>\n",
              "      <td>17.77</td>\n",
              "      <td>132.90</td>\n",
              "      <td>1326.0</td>\n",
              "      <td>0.08474</td>\n",
              "      <td>0.07864</td>\n",
              "      <td>0.08690</td>\n",
              "      <td>0.07017</td>\n",
              "      <td>0.1812</td>\n",
              "      <td>0.05667</td>\n",
              "      <td>M</td>\n",
              "    </tr>\n",
              "    <tr>\n",
              "      <th>2</th>\n",
              "      <td>19.69</td>\n",
              "      <td>21.25</td>\n",
              "      <td>130.00</td>\n",
              "      <td>1203.0</td>\n",
              "      <td>0.10960</td>\n",
              "      <td>0.15990</td>\n",
              "      <td>0.19740</td>\n",
              "      <td>0.12790</td>\n",
              "      <td>0.2069</td>\n",
              "      <td>0.05999</td>\n",
              "      <td>M</td>\n",
              "    </tr>\n",
              "    <tr>\n",
              "      <th>3</th>\n",
              "      <td>11.42</td>\n",
              "      <td>20.38</td>\n",
              "      <td>77.58</td>\n",
              "      <td>386.1</td>\n",
              "      <td>0.14250</td>\n",
              "      <td>0.28390</td>\n",
              "      <td>0.24140</td>\n",
              "      <td>0.10520</td>\n",
              "      <td>0.2597</td>\n",
              "      <td>0.09744</td>\n",
              "      <td>M</td>\n",
              "    </tr>\n",
              "    <tr>\n",
              "      <th>4</th>\n",
              "      <td>20.29</td>\n",
              "      <td>14.34</td>\n",
              "      <td>135.10</td>\n",
              "      <td>1297.0</td>\n",
              "      <td>0.10030</td>\n",
              "      <td>0.13280</td>\n",
              "      <td>0.19800</td>\n",
              "      <td>0.10430</td>\n",
              "      <td>0.1809</td>\n",
              "      <td>0.05883</td>\n",
              "      <td>M</td>\n",
              "    </tr>\n",
              "    <tr>\n",
              "      <th>5</th>\n",
              "      <td>12.45</td>\n",
              "      <td>15.70</td>\n",
              "      <td>82.57</td>\n",
              "      <td>477.1</td>\n",
              "      <td>0.12780</td>\n",
              "      <td>0.17000</td>\n",
              "      <td>0.15780</td>\n",
              "      <td>0.08089</td>\n",
              "      <td>0.2087</td>\n",
              "      <td>0.07613</td>\n",
              "      <td>M</td>\n",
              "    </tr>\n",
              "    <tr>\n",
              "      <th>6</th>\n",
              "      <td>18.25</td>\n",
              "      <td>19.98</td>\n",
              "      <td>119.60</td>\n",
              "      <td>1040.0</td>\n",
              "      <td>0.09463</td>\n",
              "      <td>0.10900</td>\n",
              "      <td>0.11270</td>\n",
              "      <td>0.07400</td>\n",
              "      <td>0.1794</td>\n",
              "      <td>0.05742</td>\n",
              "      <td>M</td>\n",
              "    </tr>\n",
              "    <tr>\n",
              "      <th>7</th>\n",
              "      <td>13.71</td>\n",
              "      <td>20.83</td>\n",
              "      <td>90.20</td>\n",
              "      <td>577.9</td>\n",
              "      <td>0.11890</td>\n",
              "      <td>0.16450</td>\n",
              "      <td>0.09366</td>\n",
              "      <td>0.05985</td>\n",
              "      <td>0.2196</td>\n",
              "      <td>0.07451</td>\n",
              "      <td>M</td>\n",
              "    </tr>\n",
              "    <tr>\n",
              "      <th>8</th>\n",
              "      <td>13.00</td>\n",
              "      <td>21.82</td>\n",
              "      <td>87.50</td>\n",
              "      <td>519.8</td>\n",
              "      <td>0.12730</td>\n",
              "      <td>0.19320</td>\n",
              "      <td>0.18590</td>\n",
              "      <td>0.09353</td>\n",
              "      <td>0.2350</td>\n",
              "      <td>0.07389</td>\n",
              "      <td>M</td>\n",
              "    </tr>\n",
              "    <tr>\n",
              "      <th>9</th>\n",
              "      <td>12.46</td>\n",
              "      <td>24.04</td>\n",
              "      <td>83.97</td>\n",
              "      <td>475.9</td>\n",
              "      <td>0.11860</td>\n",
              "      <td>0.23960</td>\n",
              "      <td>0.22730</td>\n",
              "      <td>0.08543</td>\n",
              "      <td>0.2030</td>\n",
              "      <td>0.08243</td>\n",
              "      <td>M</td>\n",
              "    </tr>\n",
              "  </tbody>\n",
              "</table>\n",
              "</div>"
            ],
            "text/plain": [
              "   radius_mean  texture_mean  ...  fractal_dimension_mean  diagnosis\n",
              "0        17.99         10.38  ...                 0.07871          M\n",
              "1        20.57         17.77  ...                 0.05667          M\n",
              "2        19.69         21.25  ...                 0.05999          M\n",
              "3        11.42         20.38  ...                 0.09744          M\n",
              "4        20.29         14.34  ...                 0.05883          M\n",
              "5        12.45         15.70  ...                 0.07613          M\n",
              "6        18.25         19.98  ...                 0.05742          M\n",
              "7        13.71         20.83  ...                 0.07451          M\n",
              "8        13.00         21.82  ...                 0.07389          M\n",
              "9        12.46         24.04  ...                 0.08243          M\n",
              "\n",
              "[10 rows x 11 columns]"
            ]
          },
          "metadata": {
            "tags": []
          },
          "execution_count": 31
        }
      ]
    },
    {
      "cell_type": "code",
      "metadata": {
        "id": "1H6EMaTT6QT3",
        "colab_type": "code",
        "colab": {},
        "outputId": "bfaba912-77e9-4d76-8922-7af9164a0b50"
      },
      "source": [
        "df.shape"
      ],
      "execution_count": null,
      "outputs": [
        {
          "output_type": "execute_result",
          "data": {
            "text/plain": [
              "(569, 33)"
            ]
          },
          "metadata": {
            "tags": []
          },
          "execution_count": 28
        }
      ]
    },
    {
      "cell_type": "markdown",
      "metadata": {
        "id": "lg5eB9886QT7",
        "colab_type": "text"
      },
      "source": [
        "*We will only consider ten real-valued features in this project for diagnostic!<br>\n",
        "Let's separate the required features along with diagnosis column.*"
      ]
    },
    {
      "cell_type": "code",
      "metadata": {
        "id": "Yl0yWldL6QT8",
        "colab_type": "code",
        "colab": {},
        "outputId": "5a194365-27ea-494f-f679-3faccb74c7f3"
      },
      "source": [
        "df.columns"
      ],
      "execution_count": null,
      "outputs": [
        {
          "output_type": "execute_result",
          "data": {
            "text/plain": [
              "Index(['id', 'diagnosis', 'radius_mean', 'texture_mean', 'perimeter_mean',\n",
              "       'area_mean', 'smoothness_mean', 'compactness_mean', 'concavity_mean',\n",
              "       'concave points_mean', 'symmetry_mean', 'fractal_dimension_mean',\n",
              "       'radius_se', 'texture_se', 'perimeter_se', 'area_se', 'smoothness_se',\n",
              "       'compactness_se', 'concavity_se', 'concave points_se', 'symmetry_se',\n",
              "       'fractal_dimension_se', 'radius_worst', 'texture_worst',\n",
              "       'perimeter_worst', 'area_worst', 'smoothness_worst',\n",
              "       'compactness_worst', 'concavity_worst', 'concave points_worst',\n",
              "       'symmetry_worst', 'fractal_dimension_worst', 'Unnamed: 32'],\n",
              "      dtype='object')"
            ]
          },
          "metadata": {
            "tags": []
          },
          "execution_count": 29
        }
      ]
    },
    {
      "cell_type": "code",
      "metadata": {
        "id": "LlQvuxfQ6QT_",
        "colab_type": "code",
        "colab": {}
      },
      "source": [
        "df = df[['radius_mean', 'texture_mean', 'perimeter_mean',\n",
        "       'area_mean', 'smoothness_mean', 'compactness_mean', 'concavity_mean',\n",
        "       'concave points_mean', 'symmetry_mean', 'fractal_dimension_mean','diagnosis']]"
      ],
      "execution_count": null,
      "outputs": []
    },
    {
      "cell_type": "code",
      "metadata": {
        "scrolled": true,
        "id": "PsGHDg1x6QUB",
        "colab_type": "code",
        "colab": {},
        "outputId": "9c1f2615-0141-4656-982a-1fc82afaa92f"
      },
      "source": [
        "df.head()"
      ],
      "execution_count": null,
      "outputs": [
        {
          "output_type": "execute_result",
          "data": {
            "text/html": [
              "<div>\n",
              "<style scoped>\n",
              "    .dataframe tbody tr th:only-of-type {\n",
              "        vertical-align: middle;\n",
              "    }\n",
              "\n",
              "    .dataframe tbody tr th {\n",
              "        vertical-align: top;\n",
              "    }\n",
              "\n",
              "    .dataframe thead th {\n",
              "        text-align: right;\n",
              "    }\n",
              "</style>\n",
              "<table border=\"1\" class=\"dataframe\">\n",
              "  <thead>\n",
              "    <tr style=\"text-align: right;\">\n",
              "      <th></th>\n",
              "      <th>radius_mean</th>\n",
              "      <th>texture_mean</th>\n",
              "      <th>perimeter_mean</th>\n",
              "      <th>area_mean</th>\n",
              "      <th>smoothness_mean</th>\n",
              "      <th>compactness_mean</th>\n",
              "      <th>concavity_mean</th>\n",
              "      <th>concave points_mean</th>\n",
              "      <th>symmetry_mean</th>\n",
              "      <th>fractal_dimension_mean</th>\n",
              "      <th>diagnosis</th>\n",
              "    </tr>\n",
              "  </thead>\n",
              "  <tbody>\n",
              "    <tr>\n",
              "      <th>0</th>\n",
              "      <td>17.99</td>\n",
              "      <td>10.38</td>\n",
              "      <td>122.80</td>\n",
              "      <td>1001.0</td>\n",
              "      <td>0.11840</td>\n",
              "      <td>0.27760</td>\n",
              "      <td>0.3001</td>\n",
              "      <td>0.14710</td>\n",
              "      <td>0.2419</td>\n",
              "      <td>0.07871</td>\n",
              "      <td>M</td>\n",
              "    </tr>\n",
              "    <tr>\n",
              "      <th>1</th>\n",
              "      <td>20.57</td>\n",
              "      <td>17.77</td>\n",
              "      <td>132.90</td>\n",
              "      <td>1326.0</td>\n",
              "      <td>0.08474</td>\n",
              "      <td>0.07864</td>\n",
              "      <td>0.0869</td>\n",
              "      <td>0.07017</td>\n",
              "      <td>0.1812</td>\n",
              "      <td>0.05667</td>\n",
              "      <td>M</td>\n",
              "    </tr>\n",
              "    <tr>\n",
              "      <th>2</th>\n",
              "      <td>19.69</td>\n",
              "      <td>21.25</td>\n",
              "      <td>130.00</td>\n",
              "      <td>1203.0</td>\n",
              "      <td>0.10960</td>\n",
              "      <td>0.15990</td>\n",
              "      <td>0.1974</td>\n",
              "      <td>0.12790</td>\n",
              "      <td>0.2069</td>\n",
              "      <td>0.05999</td>\n",
              "      <td>M</td>\n",
              "    </tr>\n",
              "    <tr>\n",
              "      <th>3</th>\n",
              "      <td>11.42</td>\n",
              "      <td>20.38</td>\n",
              "      <td>77.58</td>\n",
              "      <td>386.1</td>\n",
              "      <td>0.14250</td>\n",
              "      <td>0.28390</td>\n",
              "      <td>0.2414</td>\n",
              "      <td>0.10520</td>\n",
              "      <td>0.2597</td>\n",
              "      <td>0.09744</td>\n",
              "      <td>M</td>\n",
              "    </tr>\n",
              "    <tr>\n",
              "      <th>4</th>\n",
              "      <td>20.29</td>\n",
              "      <td>14.34</td>\n",
              "      <td>135.10</td>\n",
              "      <td>1297.0</td>\n",
              "      <td>0.10030</td>\n",
              "      <td>0.13280</td>\n",
              "      <td>0.1980</td>\n",
              "      <td>0.10430</td>\n",
              "      <td>0.1809</td>\n",
              "      <td>0.05883</td>\n",
              "      <td>M</td>\n",
              "    </tr>\n",
              "  </tbody>\n",
              "</table>\n",
              "</div>"
            ],
            "text/plain": [
              "   radius_mean  texture_mean  perimeter_mean  area_mean  smoothness_mean  \\\n",
              "0        17.99         10.38          122.80     1001.0          0.11840   \n",
              "1        20.57         17.77          132.90     1326.0          0.08474   \n",
              "2        19.69         21.25          130.00     1203.0          0.10960   \n",
              "3        11.42         20.38           77.58      386.1          0.14250   \n",
              "4        20.29         14.34          135.10     1297.0          0.10030   \n",
              "\n",
              "   compactness_mean  concavity_mean  concave points_mean  symmetry_mean  \\\n",
              "0           0.27760          0.3001              0.14710         0.2419   \n",
              "1           0.07864          0.0869              0.07017         0.1812   \n",
              "2           0.15990          0.1974              0.12790         0.2069   \n",
              "3           0.28390          0.2414              0.10520         0.2597   \n",
              "4           0.13280          0.1980              0.10430         0.1809   \n",
              "\n",
              "   fractal_dimension_mean diagnosis  \n",
              "0                 0.07871         M  \n",
              "1                 0.05667         M  \n",
              "2                 0.05999         M  \n",
              "3                 0.09744         M  \n",
              "4                 0.05883         M  "
            ]
          },
          "metadata": {
            "tags": []
          },
          "execution_count": 31
        }
      ]
    },
    {
      "cell_type": "code",
      "metadata": {
        "id": "NAB3pNZ26QUG",
        "colab_type": "code",
        "colab": {},
        "outputId": "4b20192b-1e05-404c-b5cc-2cca12169195"
      },
      "source": [
        "df.shape"
      ],
      "execution_count": null,
      "outputs": [
        {
          "output_type": "execute_result",
          "data": {
            "text/plain": [
              "(569, 11)"
            ]
          },
          "metadata": {
            "tags": []
          },
          "execution_count": 32
        }
      ]
    },
    {
      "cell_type": "code",
      "metadata": {
        "scrolled": true,
        "id": "-GRaPndC6QUK",
        "colab_type": "code",
        "colab": {},
        "outputId": "66c2f241-f8bc-4750-d566-b2e654b2de5e"
      },
      "source": [
        "df['diagnosis'].value_counts()"
      ],
      "execution_count": null,
      "outputs": [
        {
          "output_type": "execute_result",
          "data": {
            "text/plain": [
              "B    357\n",
              "M    212\n",
              "Name: diagnosis, dtype: int64"
            ]
          },
          "metadata": {
            "tags": []
          },
          "execution_count": 33
        }
      ]
    },
    {
      "cell_type": "markdown",
      "metadata": {
        "id": "pit_3RjU6QUN",
        "colab_type": "text"
      },
      "source": [
        "## Check if Any Null Values are there"
      ]
    },
    {
      "cell_type": "code",
      "metadata": {
        "id": "8tPhexV16QUO",
        "colab_type": "code",
        "colab": {},
        "outputId": "b9819204-b3b8-4090-b1b5-39a13b55231c"
      },
      "source": [
        "df.columns[df.isnull().any()]"
      ],
      "execution_count": null,
      "outputs": [
        {
          "output_type": "execute_result",
          "data": {
            "text/plain": [
              "Index([], dtype='object')"
            ]
          },
          "metadata": {
            "tags": []
          },
          "execution_count": 34
        }
      ]
    },
    {
      "cell_type": "markdown",
      "metadata": {
        "id": "2U82o_1d6QUQ",
        "colab_type": "text"
      },
      "source": [
        "## Load X and Y variables"
      ]
    },
    {
      "cell_type": "code",
      "metadata": {
        "id": "ZBQsn2a_6QUQ",
        "colab_type": "code",
        "colab": {}
      },
      "source": [
        "# Load the features to a variable X\n",
        "# x is created by simply dropping the diagnosis column and retaining all others\n",
        "X = df.drop('diagnosis', axis = 1)\n",
        "# Load the dependent variable to y\n",
        "y = df['diagnosis']"
      ],
      "execution_count": null,
      "outputs": []
    },
    {
      "cell_type": "code",
      "metadata": {
        "id": "ub-AQ_xJ6QUT",
        "colab_type": "code",
        "colab": {},
        "outputId": "b40b37cb-02eb-4ba3-b5bd-b3b3ef1d211a"
      },
      "source": [
        "X.head()"
      ],
      "execution_count": null,
      "outputs": [
        {
          "output_type": "execute_result",
          "data": {
            "text/html": [
              "<div>\n",
              "<style scoped>\n",
              "    .dataframe tbody tr th:only-of-type {\n",
              "        vertical-align: middle;\n",
              "    }\n",
              "\n",
              "    .dataframe tbody tr th {\n",
              "        vertical-align: top;\n",
              "    }\n",
              "\n",
              "    .dataframe thead th {\n",
              "        text-align: right;\n",
              "    }\n",
              "</style>\n",
              "<table border=\"1\" class=\"dataframe\">\n",
              "  <thead>\n",
              "    <tr style=\"text-align: right;\">\n",
              "      <th></th>\n",
              "      <th>radius_mean</th>\n",
              "      <th>texture_mean</th>\n",
              "      <th>perimeter_mean</th>\n",
              "      <th>area_mean</th>\n",
              "      <th>smoothness_mean</th>\n",
              "      <th>compactness_mean</th>\n",
              "      <th>concavity_mean</th>\n",
              "      <th>concave points_mean</th>\n",
              "      <th>symmetry_mean</th>\n",
              "      <th>fractal_dimension_mean</th>\n",
              "    </tr>\n",
              "  </thead>\n",
              "  <tbody>\n",
              "    <tr>\n",
              "      <th>0</th>\n",
              "      <td>17.99</td>\n",
              "      <td>10.38</td>\n",
              "      <td>122.80</td>\n",
              "      <td>1001.0</td>\n",
              "      <td>0.11840</td>\n",
              "      <td>0.27760</td>\n",
              "      <td>0.3001</td>\n",
              "      <td>0.14710</td>\n",
              "      <td>0.2419</td>\n",
              "      <td>0.07871</td>\n",
              "    </tr>\n",
              "    <tr>\n",
              "      <th>1</th>\n",
              "      <td>20.57</td>\n",
              "      <td>17.77</td>\n",
              "      <td>132.90</td>\n",
              "      <td>1326.0</td>\n",
              "      <td>0.08474</td>\n",
              "      <td>0.07864</td>\n",
              "      <td>0.0869</td>\n",
              "      <td>0.07017</td>\n",
              "      <td>0.1812</td>\n",
              "      <td>0.05667</td>\n",
              "    </tr>\n",
              "    <tr>\n",
              "      <th>2</th>\n",
              "      <td>19.69</td>\n",
              "      <td>21.25</td>\n",
              "      <td>130.00</td>\n",
              "      <td>1203.0</td>\n",
              "      <td>0.10960</td>\n",
              "      <td>0.15990</td>\n",
              "      <td>0.1974</td>\n",
              "      <td>0.12790</td>\n",
              "      <td>0.2069</td>\n",
              "      <td>0.05999</td>\n",
              "    </tr>\n",
              "    <tr>\n",
              "      <th>3</th>\n",
              "      <td>11.42</td>\n",
              "      <td>20.38</td>\n",
              "      <td>77.58</td>\n",
              "      <td>386.1</td>\n",
              "      <td>0.14250</td>\n",
              "      <td>0.28390</td>\n",
              "      <td>0.2414</td>\n",
              "      <td>0.10520</td>\n",
              "      <td>0.2597</td>\n",
              "      <td>0.09744</td>\n",
              "    </tr>\n",
              "    <tr>\n",
              "      <th>4</th>\n",
              "      <td>20.29</td>\n",
              "      <td>14.34</td>\n",
              "      <td>135.10</td>\n",
              "      <td>1297.0</td>\n",
              "      <td>0.10030</td>\n",
              "      <td>0.13280</td>\n",
              "      <td>0.1980</td>\n",
              "      <td>0.10430</td>\n",
              "      <td>0.1809</td>\n",
              "      <td>0.05883</td>\n",
              "    </tr>\n",
              "  </tbody>\n",
              "</table>\n",
              "</div>"
            ],
            "text/plain": [
              "   radius_mean  texture_mean  perimeter_mean  area_mean  smoothness_mean  \\\n",
              "0        17.99         10.38          122.80     1001.0          0.11840   \n",
              "1        20.57         17.77          132.90     1326.0          0.08474   \n",
              "2        19.69         21.25          130.00     1203.0          0.10960   \n",
              "3        11.42         20.38           77.58      386.1          0.14250   \n",
              "4        20.29         14.34          135.10     1297.0          0.10030   \n",
              "\n",
              "   compactness_mean  concavity_mean  concave points_mean  symmetry_mean  \\\n",
              "0           0.27760          0.3001              0.14710         0.2419   \n",
              "1           0.07864          0.0869              0.07017         0.1812   \n",
              "2           0.15990          0.1974              0.12790         0.2069   \n",
              "3           0.28390          0.2414              0.10520         0.2597   \n",
              "4           0.13280          0.1980              0.10430         0.1809   \n",
              "\n",
              "   fractal_dimension_mean  \n",
              "0                 0.07871  \n",
              "1                 0.05667  \n",
              "2                 0.05999  \n",
              "3                 0.09744  \n",
              "4                 0.05883  "
            ]
          },
          "metadata": {
            "tags": []
          },
          "execution_count": 36
        }
      ]
    },
    {
      "cell_type": "code",
      "metadata": {
        "id": "J8Vr2N1I6QUW",
        "colab_type": "code",
        "colab": {},
        "outputId": "131c0c73-1988-4bdb-e011-5481ee673df6"
      },
      "source": [
        "y.tail(10)"
      ],
      "execution_count": null,
      "outputs": [
        {
          "output_type": "execute_result",
          "data": {
            "text/plain": [
              "559    B\n",
              "560    B\n",
              "561    B\n",
              "562    M\n",
              "563    M\n",
              "564    M\n",
              "565    M\n",
              "566    M\n",
              "567    M\n",
              "568    B\n",
              "Name: diagnosis, dtype: object"
            ]
          },
          "metadata": {
            "tags": []
          },
          "execution_count": 38
        }
      ]
    },
    {
      "cell_type": "markdown",
      "metadata": {
        "id": "Fde4hXZe6QUZ",
        "colab_type": "text"
      },
      "source": [
        "## Split Test Train"
      ]
    },
    {
      "cell_type": "markdown",
      "metadata": {
        "id": "Nf-Aml8D6QUZ",
        "colab_type": "text"
      },
      "source": [
        "**Train-Test split -** We split our data into two parts, namely, the train set and the test set (ideally its a 70-30 train-test split which is upto you). We then try to build our function f(x) (aka model) using the train set and see how well it does on the test set.   "
      ]
    },
    {
      "cell_type": "code",
      "metadata": {
        "id": "gSvvsVe96QUa",
        "colab_type": "code",
        "colab": {}
      },
      "source": [
        "from sklearn.model_selection import train_test_split\n",
        "X_train, X_test, y_train, y_test = train_test_split(X, y, test_size=0.30, random_state=1)"
      ],
      "execution_count": null,
      "outputs": []
    },
    {
      "cell_type": "code",
      "metadata": {
        "id": "Qc6kIVK06QUd",
        "colab_type": "code",
        "colab": {},
        "outputId": "cdd1857f-1f1b-4444-85b1-eb5b7ddb89e6"
      },
      "source": [
        "X_train.shape,X_test.shape"
      ],
      "execution_count": null,
      "outputs": [
        {
          "output_type": "execute_result",
          "data": {
            "text/plain": [
              "((398, 10), (171, 10))"
            ]
          },
          "metadata": {
            "tags": []
          },
          "execution_count": 40
        }
      ]
    },
    {
      "cell_type": "markdown",
      "metadata": {
        "id": "od5g0-Rx6QUf",
        "colab_type": "text"
      },
      "source": [
        "## Create an Instance of the classifier"
      ]
    },
    {
      "cell_type": "code",
      "metadata": {
        "id": "uG0PUtMm6QUg",
        "colab_type": "code",
        "colab": {}
      },
      "source": [
        "# Let's create an instance for the LogisticRegression model\n",
        "from sklearn.linear_model import LogisticRegression\n",
        "Classifier = LogisticRegression(max_iter=200)"
      ],
      "execution_count": null,
      "outputs": []
    },
    {
      "cell_type": "markdown",
      "metadata": {
        "id": "5XSQ7Rso6QUi",
        "colab_type": "text"
      },
      "source": [
        "## Build the Model using Fit"
      ]
    },
    {
      "cell_type": "code",
      "metadata": {
        "id": "1JNewDAT6QUi",
        "colab_type": "code",
        "colab": {},
        "outputId": "3305d187-029b-4dbc-b108-a9d66935de07"
      },
      "source": [
        "# Training the model on our train dataset\n",
        "Classifier.fit(X_train,y_train)"
      ],
      "execution_count": null,
      "outputs": [
        {
          "output_type": "execute_result",
          "data": {
            "text/plain": [
              "LogisticRegression(C=1.0, class_weight=None, dual=False, fit_intercept=True,\n",
              "                   intercept_scaling=1, l1_ratio=None, max_iter=200,\n",
              "                   multi_class='auto', n_jobs=None, penalty='l2',\n",
              "                   random_state=None, solver='lbfgs', tol=0.0001, verbose=0,\n",
              "                   warm_start=False)"
            ]
          },
          "metadata": {
            "tags": []
          },
          "execution_count": 42
        }
      ]
    },
    {
      "cell_type": "markdown",
      "metadata": {
        "id": "T-1cBJ5Y6QUk",
        "colab_type": "text"
      },
      "source": [
        "## Get the Predictions"
      ]
    },
    {
      "cell_type": "code",
      "metadata": {
        "id": "SRyXwan56QUl",
        "colab_type": "code",
        "colab": {}
      },
      "source": [
        "# Getting predictions from the model \n",
        "predictions = Classifier.predict(X_test)"
      ],
      "execution_count": null,
      "outputs": []
    },
    {
      "cell_type": "code",
      "metadata": {
        "id": "scOBP0qa6QUn",
        "colab_type": "code",
        "colab": {},
        "outputId": "40e7d035-6343-469d-cbc6-b05b7034e04e"
      },
      "source": [
        "predictions"
      ],
      "execution_count": null,
      "outputs": [
        {
          "output_type": "execute_result",
          "data": {
            "text/plain": [
              "array(['M', 'B', 'B', 'M', 'M', 'M', 'M', 'M', 'B', 'B', 'B', 'M', 'M',\n",
              "       'B', 'M', 'B', 'B', 'B', 'B', 'M', 'B', 'B', 'M', 'B', 'M', 'B',\n",
              "       'M', 'M', 'M', 'M', 'M', 'B', 'M', 'B', 'B', 'B', 'M', 'M', 'B',\n",
              "       'B', 'B', 'B', 'B', 'B', 'B', 'M', 'B', 'B', 'B', 'M', 'M', 'M',\n",
              "       'B', 'B', 'B', 'B', 'B', 'M', 'B', 'B', 'B', 'M', 'M', 'B', 'B',\n",
              "       'B', 'B', 'M', 'B', 'B', 'B', 'B', 'B', 'M', 'B', 'M', 'M', 'B',\n",
              "       'B', 'M', 'B', 'M', 'B', 'M', 'B', 'B', 'M', 'B', 'M', 'B', 'B',\n",
              "       'B', 'B', 'B', 'M', 'B', 'B', 'B', 'B', 'B', 'B', 'B', 'B', 'B',\n",
              "       'M', 'B', 'B', 'B', 'M', 'M', 'B', 'B', 'B', 'B', 'M', 'M', 'B',\n",
              "       'B', 'B', 'B', 'B', 'M', 'M', 'B', 'B', 'M', 'M', 'M', 'M', 'M',\n",
              "       'B', 'B', 'B', 'M', 'B', 'M', 'M', 'B', 'B', 'M', 'B', 'M', 'B',\n",
              "       'M', 'M', 'B', 'B', 'B', 'B', 'M', 'B', 'B', 'B', 'B', 'B', 'B',\n",
              "       'M', 'B', 'B', 'B', 'B', 'B', 'B', 'M', 'B', 'B', 'M', 'M', 'M',\n",
              "       'B', 'B'], dtype=object)"
            ]
          },
          "metadata": {
            "tags": []
          },
          "execution_count": 44
        }
      ]
    },
    {
      "cell_type": "markdown",
      "metadata": {
        "id": "LumtqJQs6QUp",
        "colab_type": "text"
      },
      "source": [
        "## Model Evaluation Techniques for Classification "
      ]
    },
    {
      "cell_type": "markdown",
      "metadata": {
        "id": "Rq_FDp596QUq",
        "colab_type": "text"
      },
      "source": [
        "### 1. Get Accuracy, precision, Recall and F1 Scores"
      ]
    },
    {
      "cell_type": "markdown",
      "metadata": {
        "id": "1IlqKn5b6QUq",
        "colab_type": "text"
      },
      "source": [
        "Accuracy is simply calculated as number of classes predicted right divided by total number of samples."
      ]
    },
    {
      "cell_type": "code",
      "metadata": {
        "id": "w4UxedIe6QUr",
        "colab_type": "code",
        "colab": {},
        "outputId": "6ebb6bc7-5a81-4b8d-8e7c-8a9a689377d0"
      },
      "source": [
        "# Getting classification report\n",
        "from sklearn.metrics import classification_report\n",
        "report = classification_report(y_test,predictions)\n",
        "\n",
        "print(report)"
      ],
      "execution_count": null,
      "outputs": [
        {
          "output_type": "stream",
          "text": [
            "              precision    recall  f1-score   support\n",
            "\n",
            "           B       0.90      0.91      0.90       108\n",
            "           M       0.84      0.83      0.83        63\n",
            "\n",
            "    accuracy                           0.88       171\n",
            "   macro avg       0.87      0.87      0.87       171\n",
            "weighted avg       0.88      0.88      0.88       171\n",
            "\n"
          ],
          "name": "stdout"
        }
      ]
    },
    {
      "cell_type": "markdown",
      "metadata": {
        "id": "MXWG8r7E6QUu",
        "colab_type": "text"
      },
      "source": [
        "### 2. The confusion matrix"
      ]
    },
    {
      "cell_type": "code",
      "metadata": {
        "id": "1PuPQhz76QUv",
        "colab_type": "code",
        "colab": {},
        "outputId": "2e36e7dd-f503-4c62-9fe6-b90bf13e3a62"
      },
      "source": [
        "from sklearn.metrics import confusion_matrix, recall_score, precision_score\n",
        " \n",
        "cm = confusion_matrix(y_test, predictions)\n",
        "display_cm(cm)\n",
        "\n",
        "# Assigning Variables for convinience\n",
        "TN = 98\n",
        "FP = 10\n",
        "FN = 11\n",
        "TP = 52\n",
        "\n",
        "accuracy = (TP+TN) / float(TP+TN+FN + TP)\n",
        "print('Accuracy ',accuracy)\n",
        "sensitivity = TP / float(FN + TP)\n",
        "print('sensitivity or recall:',sensitivity)\n",
        "precision = TP / float(TP + FP)\n",
        "print('precision',precision)\n",
        "specificity = TN / (TN + FP)\n",
        "print('specificity',specificity)"
      ],
      "execution_count": null,
      "outputs": [
        {
          "output_type": "display_data",
          "data": {
            "image/png": "[encoded data removed]",
            "text/plain": [
              "<Figure size 432x288 with 1 Axes>"
            ]
          },
          "metadata": {
            "tags": [],
            "needs_background": "light"
          }
        },
        {
          "output_type": "stream",
          "text": [
            "Accuracy  0.704225352112676\n",
            "sensitivity or recall: 0.8253968253968254\n",
            "precision 0.8387096774193549\n",
            "specificity 0.9074074074074074\n"
          ],
          "name": "stdout"
        }
      ]
    },
    {
      "cell_type": "markdown",
      "metadata": {
        "id": "Mx5qGzQc6QUy",
        "colab_type": "text"
      },
      "source": [
        "#### Positive Predictive Value or Precision : \n",
        " When a positive value is predicted, how often is the prediction correct?\n",
        "<br> How \"precise\" is the classifier when predicting positive instances?\n",
        "<br><b>Sensitivity or Recall or True Positive Rate:</b> \n",
        "<br>When the actual value is positive, how often is the prediction correct?\n",
        "<br>Something we want to maximize and Minimise FN\n",
        "<br>How \"sensitive\" is the classifier to detecting positive instances?\n",
        "<br>Also known as \"True Positive Rate\" or \"Recall\"\n",
        "<br>TP / TP + FN (all positive)\n",
        "#### Specificity:  When the actual value is negative, how often is the prediction correct?\n",
        "Something we want to maximize\n",
        "<br>How \"specific\" (or \"selective\") is the classifier in predicting positive instances?\n",
        "<br>TN / TN + FP (all negative)"
      ]
    },
    {
      "cell_type": "markdown",
      "metadata": {
        "id": "cUxQYIcd6QUy",
        "colab_type": "text"
      },
      "source": [
        "### Compare  a Sample of  Predictions to Actuals"
      ]
    },
    {
      "cell_type": "code",
      "metadata": {
        "scrolled": true,
        "id": "0GZjCDnc6QUy",
        "colab_type": "code",
        "colab": {},
        "outputId": "38f53362-174b-4c0d-e786-cd4337cfee2b"
      },
      "source": [
        "displayResults(y_test,predictions)\n"
      ],
      "execution_count": null,
      "outputs": [
        {
          "output_type": "execute_result",
          "data": {
            "text/html": [
              "<div>\n",
              "<style scoped>\n",
              "    .dataframe tbody tr th:only-of-type {\n",
              "        vertical-align: middle;\n",
              "    }\n",
              "\n",
              "    .dataframe tbody tr th {\n",
              "        vertical-align: top;\n",
              "    }\n",
              "\n",
              "    .dataframe thead th {\n",
              "        text-align: right;\n",
              "    }\n",
              "</style>\n",
              "<table border=\"1\" class=\"dataframe\">\n",
              "  <thead>\n",
              "    <tr style=\"text-align: right;\">\n",
              "      <th></th>\n",
              "      <th>Actual</th>\n",
              "      <th>Predictions</th>\n",
              "    </tr>\n",
              "  </thead>\n",
              "  <tbody>\n",
              "    <tr>\n",
              "      <th>421</th>\n",
              "      <td>B</td>\n",
              "      <td>M</td>\n",
              "    </tr>\n",
              "    <tr>\n",
              "      <th>47</th>\n",
              "      <td>M</td>\n",
              "      <td>B</td>\n",
              "    </tr>\n",
              "    <tr>\n",
              "      <th>292</th>\n",
              "      <td>B</td>\n",
              "      <td>B</td>\n",
              "    </tr>\n",
              "    <tr>\n",
              "      <th>186</th>\n",
              "      <td>M</td>\n",
              "      <td>M</td>\n",
              "    </tr>\n",
              "    <tr>\n",
              "      <th>414</th>\n",
              "      <td>M</td>\n",
              "      <td>M</td>\n",
              "    </tr>\n",
              "    <tr>\n",
              "      <th>132</th>\n",
              "      <td>M</td>\n",
              "      <td>M</td>\n",
              "    </tr>\n",
              "    <tr>\n",
              "      <th>161</th>\n",
              "      <td>M</td>\n",
              "      <td>M</td>\n",
              "    </tr>\n",
              "    <tr>\n",
              "      <th>197</th>\n",
              "      <td>M</td>\n",
              "      <td>M</td>\n",
              "    </tr>\n",
              "    <tr>\n",
              "      <th>245</th>\n",
              "      <td>B</td>\n",
              "      <td>B</td>\n",
              "    </tr>\n",
              "    <tr>\n",
              "      <th>453</th>\n",
              "      <td>B</td>\n",
              "      <td>B</td>\n",
              "    </tr>\n",
              "  </tbody>\n",
              "</table>\n",
              "</div>"
            ],
            "text/plain": [
              "    Actual Predictions\n",
              "421      B           M\n",
              "47       M           B\n",
              "292      B           B\n",
              "186      M           M\n",
              "414      M           M\n",
              "132      M           M\n",
              "161      M           M\n",
              "197      M           M\n",
              "245      B           B\n",
              "453      B           B"
            ]
          },
          "metadata": {
            "tags": []
          },
          "execution_count": 47
        }
      ]
    },
    {
      "cell_type": "markdown",
      "metadata": {
        "id": "ZBxf56jg6QU0",
        "colab_type": "text"
      },
      "source": [
        "**Conclusion:**\n",
        "<br>Our model is specific but not that sensitive.\n",
        "<br>Confusion matrix gives you a more complete picture of how your classifier is performing\n",
        "<br>Also allows you to compute various classification metrics, and these metrics can guide your model selection"
      ]
    },
    {
      "cell_type": "markdown",
      "metadata": {
        "collapsed": true,
        "id": "1AgK5YKh6QU1",
        "colab_type": "text"
      },
      "source": [
        "Which metrics should you focus on?\n",
        "\n",
        "Choice of metric depends on your business objective\n",
        "Identify if FP or FN is more important to reduce\n",
        "Choose metric with relevant variable (FP or FN in the equation)\n",
        "Spam filter (positive class is \"spam\"):\n",
        "Optimize for precision or specificity\n",
        "precision\n",
        "false positive as variable\n",
        "specificity\n",
        "false positive as variable\n",
        "Because false negatives (spam goes to the inbox) are more acceptable than false positives (non-spam is caught by the spam filter)\n",
        "Fraudulent transaction detector (positive class is \"fraud\"):\n",
        "Optimize for sensitivity\n",
        "FN as a variable\n",
        "Because false positives (normal transactions that are flagged as possible fraud) are more acceptable than false negatives (fraudulent transactions that are not detected)\n"
      ]
    },
    {
      "cell_type": "code",
      "metadata": {
        "id": "cVh2XQvd6QU1",
        "colab_type": "code",
        "colab": {}
      },
      "source": [
        ""
      ],
      "execution_count": null,
      "outputs": []
    },
    {
      "cell_type": "code",
      "metadata": {
        "id": "T_d5wEiq6QU3",
        "colab_type": "code",
        "colab": {}
      },
      "source": [
        ""
      ],
      "execution_count": null,
      "outputs": []
    },
    {
      "cell_type": "code",
      "metadata": {
        "id": "v3__QqLT6QU6",
        "colab_type": "code",
        "colab": {}
      },
      "source": [
        ""
      ],
      "execution_count": null,
      "outputs": []
    }
  ]
}