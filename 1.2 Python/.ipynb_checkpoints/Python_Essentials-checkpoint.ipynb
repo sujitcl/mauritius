{
 "cells": [
  {
   "cell_type": "markdown",
   "metadata": {},
   "source": [
    "# Python Essentials\n",
    "\n",
    "\n",
    "We will go through the following concepts in this section:\n",
    "* Python data types:\n",
    "    * Numbers\n",
    "    * Strings & print formatting\n",
    "    * Lists\n",
    "    * Booleans\n",
    "* Comparisons Operators\n",
    "    * if, else, elif statements\n",
    "*   Loops (while & for) & range()\n",
    "*   Functions\n",
    "*   Libraries\n",
    "\n",
    "\n",
    "\n",
    "\n",
    "## Python  Variables, Operators and Data types :\n",
    "\n",
    "### Creating Variables\n",
    "Variables are containers for storing data values.\n",
    "\n",
    "Unlike other programming languages, Python has no command for declaring a variable.\n",
    "\n",
    "A variable is created the moment you first assign a value to it.\n",
    "\n",
    "### Numbers \n",
    "Python has two basic number types, <b>integer</b> and <b>float</b>. <br>\n",
    "\n",
    "For example, 2 is an integer and 2.0 is a floating point number which has a decimal attached to it. <br>We can perform arithmetic operations to either of these numbers types. "
   ]
  },
  {
   "cell_type": "code",
   "execution_count": null,
   "metadata": {},
   "outputs": [],
   "source": [
    "# addition\n",
    "x= 5 + 2\n",
    "print(x)"
   ]
  },
  {
   "cell_type": "code",
   "execution_count": null,
   "metadata": {},
   "outputs": [],
   "source": [
    "# subtraction\n",
    "y= 5 - 2"
   ]
  },
  {
   "cell_type": "code",
   "execution_count": null,
   "metadata": {},
   "outputs": [],
   "source": [
    "# multiplication\n",
    "z = 5 * 2"
   ]
  },
  {
   "cell_type": "markdown",
   "metadata": {},
   "source": [
    "### How to inspect and print  a variable"
   ]
  },
  {
   "cell_type": "code",
   "execution_count": null,
   "metadata": {},
   "outputs": [],
   "source": [
    "#Just type the variable name and run the cell\n",
    "x"
   ]
  },
  {
   "cell_type": "code",
   "execution_count": null,
   "metadata": {},
   "outputs": [],
   "source": [
    "# This doesn't show x !\n",
    "x=1\n",
    "y=2\n",
    "x\n",
    "y"
   ]
  },
  {
   "cell_type": "code",
   "execution_count": null,
   "metadata": {},
   "outputs": [],
   "source": [
    "# Print multiple variables\n",
    "print(x)\n",
    "print(y)\n",
    "print(z)\n",
    "print(x, y, z)"
   ]
  },
  {
   "cell_type": "markdown",
   "metadata": {},
   "source": [
    "### More Operands"
   ]
  },
  {
   "cell_type": "markdown",
   "metadata": {},
   "source": [
    "We can divide them with a forward slash between them (note, two integers are giving floating point in results).<br> \n",
    "<font style=\"font-size:12px;\">*If you are using Python 2, you need to add 2.0 in the expression (e.g. 5 / 2.0) to get the same results.*</font>"
   ]
  },
  {
   "cell_type": "code",
   "execution_count": null,
   "metadata": {},
   "outputs": [],
   "source": [
    "x= 5 / 2\n",
    "x"
   ]
  },
  {
   "cell_type": "markdown",
   "metadata": {},
   "source": [
    "We can calculate the power of some number `(exponent)` with two **Asterix** ** together."
   ]
  },
  {
   "cell_type": "code",
   "execution_count": null,
   "metadata": {},
   "outputs": [],
   "source": [
    "y= 5 ** 2\n",
    "y"
   ]
  },
  {
   "cell_type": "markdown",
   "metadata": {},
   "source": [
    "**A good practice is to use parentheses `\"( )\"`** to tell the Python, which operation needs to be performed and clarify the order. <br> \n",
    "The operations in the parentheses will be performed first."
   ]
  },
  {
   "cell_type": "code",
   "execution_count": null,
   "metadata": {},
   "outputs": [],
   "source": [
    "x= (1 + 2) * (3 + 4)\n",
    "x"
   ]
  },
  {
   "cell_type": "markdown",
   "metadata": {},
   "source": [
    "### Variables:\n"
   ]
  },
  {
   "cell_type": "markdown",
   "metadata": {},
   "source": [
    "We can perform arithmetic operations using these variable."
   ]
  },
  {
   "cell_type": "markdown",
   "metadata": {},
   "source": [
    "We can perform any arithmetic operation and assign the result to a new variable."
   ]
  },
  {
   "cell_type": "code",
   "execution_count": null,
   "metadata": {},
   "outputs": [],
   "source": [
    "# Adding x and y\n",
    "x=1\n",
    "y=2\n",
    "z= x + y\n",
    "print(z)"
   ]
  },
  {
   "cell_type": "code",
   "execution_count": null,
   "metadata": {},
   "outputs": [],
   "source": [
    "# Multiplying x and y\n",
    "x=2\n",
    "y=x+3\n",
    "z = x * y\n",
    "z"
   ]
  },
  {
   "cell_type": "code",
   "execution_count": null,
   "metadata": {},
   "outputs": [],
   "source": [
    "# Subtraction of the variables and assigning the result to a new variable\n",
    "x=5\n",
    "y=3\n",
    "z = x - y # 5 - 3"
   ]
  },
  {
   "cell_type": "code",
   "execution_count": null,
   "metadata": {},
   "outputs": [],
   "source": [
    "z"
   ]
  },
  {
   "cell_type": "markdown",
   "metadata": {},
   "source": [
    "### Strings\n",
    "One of the most popular and useful data types in Python are strings. They can be created by enclosing characters in single **' '** or double **\" \"** quotes. <br>\n",
    "Python consider singe and double quotes in the same way. <br>\n",
    "Strings are used to record text information (e.g. person name) as well as arbitrary collection of bytes (e.g. contents of an image file) "
   ]
  },
  {
   "cell_type": "code",
   "execution_count": null,
   "metadata": {},
   "outputs": [],
   "source": [
    "# creating double quotes string\n",
    "x = \"creating double quotes string\"\n"
   ]
  },
  {
   "cell_type": "code",
   "execution_count": null,
   "metadata": {},
   "outputs": [],
   "source": [
    "x"
   ]
  },
  {
   "cell_type": "code",
   "execution_count": null,
   "metadata": {},
   "outputs": [],
   "source": [
    "# we have lot's of other quotes, let's wrap them in double quotes \n",
    "x= \"we have lot's of other quotes, let's wrap them in double quotes\" "
   ]
  },
  {
   "cell_type": "code",
   "execution_count": null,
   "metadata": {},
   "outputs": [],
   "source": [
    "x='Messi! '\n",
    "y= 'He is God of soccer'\n",
    "print(x,y)"
   ]
  },
  {
   "cell_type": "code",
   "execution_count": null,
   "metadata": {},
   "outputs": [],
   "source": [
    "x+y"
   ]
  },
  {
   "cell_type": "markdown",
   "metadata": {},
   "source": [
    "### Lists\n",
    "As discussed, string is a sequence of items, lets move on with this idea to the another very useful data type in Python which is List. Before we move on, some key points for the lists are:<br> \n",
    "* **Lists** are positionally ordered collections of arbitrarily typed objects (it **can take any data type**). <br>\n",
    "* It is a sequence of elements separated by commas in a set of square brackets.<br> \n",
    "* Lists have no fixed size.<br>\n",
    "* Lists are mutable — unlike strings, lists can be modified.<br>\n",
    "* Lists can be indexed and sliced, like strings."
   ]
  },
  {
   "cell_type": "code",
   "execution_count": null,
   "metadata": {},
   "outputs": [],
   "source": [
    "# a list of numbers \n",
    "x= [4,5,6]"
   ]
  },
  {
   "cell_type": "code",
   "execution_count": null,
   "metadata": {},
   "outputs": [],
   "source": [
    "x"
   ]
  },
  {
   "cell_type": "code",
   "execution_count": null,
   "metadata": {},
   "outputs": [],
   "source": [
    "# We can have a list of stings 'd', 'e', 'f' -- Note strings are in quotes \n",
    "x= ['d','e','f']"
   ]
  },
  {
   "cell_type": "code",
   "execution_count": null,
   "metadata": {},
   "outputs": [],
   "source": [
    "# We can assign a list of different types to  \"my_list\".\n",
    "x = [1, 2, 3, 'd','e','f']\n",
    "\n",
    "x"
   ]
  },
  {
   "cell_type": "code",
   "execution_count": null,
   "metadata": {},
   "outputs": [],
   "source": [
    "#Inspecting lists\n",
    "x[0], x[3], x[-1]"
   ]
  },
  {
   "cell_type": "markdown",
   "metadata": {},
   "source": [
    "### Booleans\n",
    "Are simply **`True`** and **`False`** with capital **`T`** and Capital **`F`** -- just a customized version of **1** and **0**"
   ]
  },
  {
   "cell_type": "code",
   "execution_count": null,
   "metadata": {},
   "outputs": [],
   "source": [
    "True"
   ]
  },
  {
   "cell_type": "code",
   "execution_count": null,
   "metadata": {},
   "outputs": [],
   "source": [
    "False"
   ]
  },
  {
   "cell_type": "markdown",
   "metadata": {},
   "source": [
    "\n",
    "## Comparison Operators:\n",
    "Comparison Operators allows to compare two elements to each other, such as, **`greater than, less than, equal to, not equal to`** etc\n",
    "\n",
    "These operators also return a boolean as the output"
   ]
  },
  {
   "cell_type": "code",
   "execution_count": null,
   "metadata": {},
   "outputs": [],
   "source": [
    "x= 3 \n",
    "y=4\n",
    "x> y"
   ]
  },
  {
   "cell_type": "code",
   "execution_count": null,
   "metadata": {},
   "outputs": [],
   "source": [
    "x= 3 \n",
    "y=4\n",
    "z= x < y\n",
    "print(z)"
   ]
  },
  {
   "cell_type": "code",
   "execution_count": null,
   "metadata": {},
   "outputs": [],
   "source": [
    "2 >= 2"
   ]
  },
  {
   "cell_type": "code",
   "execution_count": null,
   "metadata": {},
   "outputs": [],
   "source": [
    "3 <= 4"
   ]
  },
  {
   "cell_type": "code",
   "execution_count": null,
   "metadata": {},
   "outputs": [],
   "source": [
    "# this is different from =, which is assignment operator \n",
    "1 == 1 "
   ]
  },
  {
   "cell_type": "code",
   "execution_count": null,
   "metadata": {},
   "outputs": [],
   "source": [
    "# we can compare strings\n",
    "'Tom' == 'TOM'"
   ]
  },
  {
   "cell_type": "code",
   "execution_count": null,
   "metadata": {},
   "outputs": [],
   "source": [
    "'Tom' == 'Tom'"
   ]
  },
  {
   "cell_type": "code",
   "execution_count": null,
   "metadata": {},
   "outputs": [],
   "source": [
    "'Tom' != 'Jim'"
   ]
  },
  {
   "cell_type": "markdown",
   "metadata": {},
   "source": [
    "## Logic Operators\n",
    "Let's move on and talk about the logic operations. Logic operators combine multiple conditions using key words **`\"and\"`** / **`\"or\"`** operators between conditions.  <br>\n",
    "\n",
    "For **`\"and\"`** operator, **all conditions must be satisfied**"
   ]
  },
  {
   "cell_type": "code",
   "execution_count": null,
   "metadata": {},
   "outputs": [],
   "source": [
    "# and operator\n",
    "x = (1 < 2) and (2 < 3)\n",
    "print(x)\n",
    "# parentheses are to make the statement more readable only  "
   ]
  },
  {
   "cell_type": "markdown",
   "metadata": {},
   "source": [
    "For **`\"or\"`** operator, **one conditions must be satisfied**"
   ]
  },
  {
   "cell_type": "code",
   "execution_count": null,
   "metadata": {},
   "outputs": [],
   "source": [
    "# or operator\n",
    "(1 < 2) and (2 > 3)"
   ]
  },
  {
   "cell_type": "code",
   "execution_count": null,
   "metadata": {},
   "outputs": [],
   "source": [
    "(1 < 2) or (2 > 3)"
   ]
  },
  {
   "cell_type": "code",
   "execution_count": null,
   "metadata": {},
   "outputs": [],
   "source": [
    "(1 == 2) or (2 == 3) or (4 == 4)"
   ]
  },
  {
   "cell_type": "markdown",
   "metadata": {},
   "source": [
    "So moving forward to \n",
    "## `if, else, elif`  Statements\n",
    "Lots of times, we want to execute the code to perform some action, based on, if the condition is true. We can do this using \"**`if, else, elif`**\" statements. <br>\n",
    "The Python's \"**`if`**\" statement select actions to perform. <br><br>"
   ]
  },
  {
   "cell_type": "code",
   "execution_count": null,
   "metadata": {},
   "outputs": [],
   "source": [
    "# let say, we have a conditon\n",
    "x = 3\n",
    "y = 2\n",
    "if x > y:\n",
    "    print ('True') \n",
    "# print statement will only execute if the conditon is satisfied"
   ]
  },
  {
   "cell_type": "markdown",
   "metadata": {},
   "source": [
    "<font style=\"font-size:16px;color:red;\">*Notice a block of whitespace before the print( ) statement, in the cell above. It is very important in Python. Python does not use brackets in order to separate a block of code execution statements, it uses white spaces instead. Like most of the other IDEs for Python, Jupyter automatically does the indentation for us after a colon.*<font>"
   ]
  },
  {
   "cell_type": "markdown",
   "metadata": {},
   "source": [
    "If the condition is not satisfied (in the example below), print statement will not execute. Nothing will appear in the output"
   ]
  },
  {
   "cell_type": "code",
   "execution_count": null,
   "metadata": {},
   "outputs": [],
   "source": [
    "x = 3\n",
    "y = 2\n",
    "\n",
    "if x < y:\n",
    "    print ('True')"
   ]
  },
  {
   "cell_type": "markdown",
   "metadata": {},
   "source": [
    "So, the condition is not satisfied and we did not get 'True' in the output. <br>\n",
    "In such situation, we usually want our program to do something even if the condition is not satisfied, e.g., print \"False\"!. This is where we introduce else. "
   ]
  },
  {
   "cell_type": "code",
   "execution_count": null,
   "metadata": {},
   "outputs": [],
   "source": [
    "x = 3\n",
    "y = 2\n",
    "\n",
    "if x < y:\n",
    "    print ('True')\n",
    "else:\n",
    "    print('False')"
   ]
  },
  {
   "cell_type": "code",
   "execution_count": null,
   "metadata": {},
   "outputs": [],
   "source": [
    "if 3 == 2: # Change == to != to print True\n",
    "    print ('True')\n",
    "else:\n",
    "    print ('False')"
   ]
  },
  {
   "cell_type": "markdown",
   "metadata": {},
   "source": [
    "We can have multiple conditions in the code!<br>\n",
    "Let's introduce elif in such situation (elif is a short of else-if) <br>\n",
    "We can introduce many elif statements in the code. <br><br>"
   ]
  },
  {
   "cell_type": "markdown",
   "metadata": {},
   "source": [
    "## loops\n",
    "**while** and **for** are the two main loops in Python.<br>\n",
    "In loops, the statements perform an action over and over, based on the said condition."
   ]
  },
  {
   "cell_type": "markdown",
   "metadata": {},
   "source": [
    "### for loop \n",
    "for loop allow us to iterate through a sequence. <br>\n",
    "The **`for`** statement works on strings, lists, tuples and other built-in iterables, as well as new user-defined objects. "
   ]
  },
  {
   "cell_type": "code",
   "execution_count": null,
   "metadata": {},
   "outputs": [],
   "source": [
    "my_list = [1,2,3,4]\n",
    "for item in my_list:\n",
    "    print(item)"
   ]
  },
  {
   "cell_type": "markdown",
   "metadata": {},
   "source": [
    "This was about the loops at the moment!\n",
    "\n",
    "### `range( )`: \n",
    "#### `<shift + tab>` for the doc string! Very useful to see what the function can do and what type of inputs are needed<br>\n",
    "After discussing loops, I want to introduce a very useful loop-related function **range( )** at this point.<br>\n",
    "* Rather than creating a sequence (specially in for loops), we can use `range()`, which is a generator of numerical values.<br>\n",
    "* **With one argument**, `range` generates a list of integers from zero up to but not including the argument’s value. <br>\n",
    "* **With two arguments**, the first is taken as the lower bound (start). <br>\n",
    "* We can give a **third argument as a step**, which is optional. If the third argument is provided, Python adds the step to each successive integer in the result (the default value of step is +1)."
   ]
  },
  {
   "cell_type": "code",
   "execution_count": null,
   "metadata": {},
   "outputs": [],
   "source": [
    "# Use of range(), with three argument, in a loop\n",
    "for i in range(1,10,2):\n",
    "    print(i)"
   ]
  },
  {
   "cell_type": "markdown",
   "metadata": {},
   "source": [
    "## Functions:\n",
    "You may have come across them before in other languages, where they may have been called subroutines or procedures. <br>\n",
    "\n",
    "**Functions serve two primary development roles:**<br>\n",
    "* Maximizing code reuse and minimizing redundancy\n",
    "* Procedural decomposition by splitting systems into pieces that have well-defined roles.\n",
    "\n",
    "Functions reduce our future work radically and if the operation must be changed later, we only have to update one copy in the function, not many scattered copies throughout the code.<br>\n",
    "\n",
    "In Python, **`\"def\"`** creates a function object and assigns it to a name."
   ]
  },
  {
   "cell_type": "code",
   "execution_count": null,
   "metadata": {},
   "outputs": [],
   "source": [
    "# A simplest example\n",
    "def get_tax( name, age, salary):\n",
    "    \"\"\"\n",
    "    This function greets people \n",
    "    \"\"\"\n",
    "    print('We are calculating tax for ', name)\n",
    "    \n",
    "    # We can concatenate two string together with + sign.\n",
    "    if age < 25:\n",
    "        taxrate = .2\n",
    "        print(name, ' is a young tax payer')\n",
    "\n",
    "    else:\n",
    "        print(name, 'is a mature tax payer!')\n",
    "        taxrate= .25\n",
    "\n",
    "    tax = salary*taxrate\n",
    "    print('Tax amount is ', tax)\n",
    "    print('-----Done ----\\n')\n",
    "    return tax"
   ]
  },
  {
   "cell_type": "code",
   "execution_count": null,
   "metadata": {},
   "outputs": [],
   "source": [
    "# function call with a\n",
    "get_tax ('Ravi',20, 1000)"
   ]
  },
  {
   "cell_type": "code",
   "execution_count": null,
   "metadata": {},
   "outputs": [],
   "source": [
    "# function call with a\n",
    "get_tax ('Saira',24, 5000)"
   ]
  },
  {
   "cell_type": "code",
   "execution_count": null,
   "metadata": {},
   "outputs": [],
   "source": [
    "# We can save the output in a variable\n",
    "amt = get_tax ('Ravi',30, 1000)\n",
    "\n",
    "print (amt)"
   ]
  },
  {
   "cell_type": "markdown",
   "metadata": {},
   "source": [
    "## Libraries\n",
    "A library is a bundle of code made to help you accomplish routine tasks more quickly. Seaborn, for example, allows you to create visualizations with as little as one line of code. Without such a library, you’d have to write a ton of code to take an object and render a chart. Python is a popular language for data analysis in part because it has extremely robust libraries for data manipulation, visualization, machine learning, and a host of other applications."
   ]
  },
  {
   "cell_type": "markdown",
   "metadata": {},
   "source": [
    "### Importing libraries\n",
    "\n",
    "We can import numpy library as shown below"
   ]
  },
  {
   "cell_type": "code",
   "execution_count": null,
   "metadata": {},
   "outputs": [],
   "source": [
    "import numpy"
   ]
  },
  {
   "cell_type": "markdown",
   "metadata": {},
   "source": [
    "Now we have access to all of the functionality of numpy.\n",
    "\n",
    "For example, we can calculate mean of a set of numbers using numpy's mean function.\n"
   ]
  },
  {
   "cell_type": "code",
   "execution_count": null,
   "metadata": {},
   "outputs": [],
   "source": [
    "values = [ 1, 2, 3, 4, 5 ]\n",
    "mean_value = numpy.mean(values)\n",
    "print(mean_value)"
   ]
  },
  {
   "cell_type": "markdown",
   "metadata": {},
   "source": [
    "We can import libraries with an alias to avoid typing long library names repeatedly."
   ]
  },
  {
   "cell_type": "code",
   "execution_count": null,
   "metadata": {},
   "outputs": [],
   "source": [
    "import numpy as np\n",
    "mean_value = np.mean(values)\n",
    "print (mean_value)"
   ]
  },
  {
   "cell_type": "markdown",
   "metadata": {},
   "source": [
    "### Type np. and press tab to see how many functions you can import\n",
    "###  Press shift tab to see help on any function name"
   ]
  },
  {
   "cell_type": "code",
   "execution_count": null,
   "metadata": {},
   "outputs": [],
   "source": [
    "np.absolute"
   ]
  },
  {
   "cell_type": "code",
   "execution_count": null,
   "metadata": {},
   "outputs": [],
   "source": [
    "### Import more libraries"
   ]
  },
  {
   "cell_type": "code",
   "execution_count": null,
   "metadata": {},
   "outputs": [],
   "source": [
    "import pandas as pd\n",
    "import matplotlib.pyplot as plt\n",
    "from sklearn.linear_model import LinearRegression "
   ]
  },
  {
   "cell_type": "code",
   "execution_count": null,
   "metadata": {},
   "outputs": [],
   "source": [
    "# Try help(pd)  and/or  plt.  to see what they contain\n",
    "help(pd)"
   ]
  },
  {
   "cell_type": "code",
   "execution_count": null,
   "metadata": {
    "scrolled": false
   },
   "outputs": [],
   "source": [
    "# plt."
   ]
  },
  {
   "cell_type": "code",
   "execution_count": null,
   "metadata": {},
   "outputs": [],
   "source": [
    "# Take help on LinearRegression"
   ]
  },
  {
   "cell_type": "code",
   "execution_count": null,
   "metadata": {},
   "outputs": [],
   "source": [
    "help (LinearRegression)"
   ]
  },
  {
   "cell_type": "code",
   "execution_count": null,
   "metadata": {},
   "outputs": [],
   "source": []
  },
  {
   "cell_type": "code",
   "execution_count": null,
   "metadata": {},
   "outputs": [],
   "source": []
  }
 ],
 "metadata": {
  "kernelspec": {
   "display_name": "Python 3",
   "language": "python",
   "name": "python3"
  },
  "language_info": {
   "codemirror_mode": {
    "name": "ipython",
    "version": 3
   },
   "file_extension": ".py",
   "mimetype": "text/x-python",
   "name": "python",
   "nbconvert_exporter": "python",
   "pygments_lexer": "ipython3",
   "version": "3.6.5"
  }
 },
 "nbformat": 4,
 "nbformat_minor": 1
}
